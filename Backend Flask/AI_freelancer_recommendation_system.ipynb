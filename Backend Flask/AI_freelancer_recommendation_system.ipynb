{
  "nbformat": 4,
  "nbformat_minor": 0,
  "metadata": {
    "colab": {
      "provenance": [],
      "gpuType": "T4"
    },
    "kernelspec": {
      "name": "python3",
      "display_name": "Python 3"
    },
    "language_info": {
      "name": "python"
    },
    "accelerator": "GPU"
  },
  "cells": [
    {
      "cell_type": "code",
      "source": [
        "#importing imp libraries\n",
        "import pandas as pd\n",
        "import numpy as np\n",
        "import pickle\n"
      ],
      "metadata": {
        "id": "Yu5yIHrlwNBa"
      },
      "execution_count": 1,
      "outputs": []
    },
    {
      "cell_type": "code",
      "source": [
        "df_freelancer = pd.read_csv('/content/upwork_data_scientists.csv')\n",
        "df_jobs = pd.read_csv('/content/freelancer_job_postings.csv.zip')"
      ],
      "metadata": {
        "id": "Yh98lUb5waHU"
      },
      "execution_count": 2,
      "outputs": []
    },
    {
      "cell_type": "code",
      "source": [
        "df_freelancer.head()"
      ],
      "metadata": {
        "colab": {
          "base_uri": "https://localhost:8080/",
          "height": 501
        },
        "id": "33GufV8M9Z7c",
        "outputId": "3bc79cc5-a69e-4c50-d059-f15afcb6e477"
      },
      "execution_count": 3,
      "outputs": [
        {
          "output_type": "execute_result",
          "data": {
            "text/plain": [
              "         country                                        description  \\\n",
              "0          Egypt  let the work of data for me 📊 and get the busi...   \n",
              "1         Serbia  I am master environmental protection analyst a...   \n",
              "2    Philippines  Specializes in automated Excel solutions that ...   \n",
              "3  United States  Data Science and Machine Learning Expert for H...   \n",
              "4       Pakistan  🔴🟡🔴🟡🔴🟡🔴🟡🔴🟡🟡🟡🟡🟡🟡🟡\" I can do anything with Pytho...   \n",
              "\n",
              "   hourlyRate jobSuccess  locality               name  \\\n",
              "0        25.0        97%      Giza           Abeer K.   \n",
              "1        15.0        97%  Belgrade          Nikola M.   \n",
              "2        60.0       100%    Manila      Ramil, Jr. A.   \n",
              "3       500.0       100%   Wyckoff           Jason K.   \n",
              "4        25.0        82%   Karachi  Muhammad Noman B.   \n",
              "\n",
              "                                              skills  \\\n",
              "0  Python|Machine Learning|Scrapy|Data Science|SQ...   \n",
              "1  Data Entry|Google Docs|Online Research|Lead Ge...   \n",
              "2  Microsoft Excel|Excel Formula|Excel Macros|Vis...   \n",
              "3  Deep Learning|Python|Data Science|Machine Lear...   \n",
              "4  Data Science|Machine Learning|pandas|Microsoft...   \n",
              "\n",
              "                                               title  totalHours  totalJobs  \n",
              "0             Data Scientist | Web Scraping Engineer       405.0         69  \n",
              "1                                         Researcher       354.0         68  \n",
              "2        Excel | VBA | Macros | Google Sheets Expert        15.0        351  \n",
              "3  Data Science & AI Expert- Senior Machine Learn...       434.0         80  \n",
              "4  Data Science | Python Projects | Machine Learn...         4.0         11  "
            ],
            "text/html": [
              "\n",
              "  <div id=\"df-27d7d871-9fb7-4014-9f85-a213eab9cc66\" class=\"colab-df-container\">\n",
              "    <div>\n",
              "<style scoped>\n",
              "    .dataframe tbody tr th:only-of-type {\n",
              "        vertical-align: middle;\n",
              "    }\n",
              "\n",
              "    .dataframe tbody tr th {\n",
              "        vertical-align: top;\n",
              "    }\n",
              "\n",
              "    .dataframe thead th {\n",
              "        text-align: right;\n",
              "    }\n",
              "</style>\n",
              "<table border=\"1\" class=\"dataframe\">\n",
              "  <thead>\n",
              "    <tr style=\"text-align: right;\">\n",
              "      <th></th>\n",
              "      <th>country</th>\n",
              "      <th>description</th>\n",
              "      <th>hourlyRate</th>\n",
              "      <th>jobSuccess</th>\n",
              "      <th>locality</th>\n",
              "      <th>name</th>\n",
              "      <th>skills</th>\n",
              "      <th>title</th>\n",
              "      <th>totalHours</th>\n",
              "      <th>totalJobs</th>\n",
              "    </tr>\n",
              "  </thead>\n",
              "  <tbody>\n",
              "    <tr>\n",
              "      <th>0</th>\n",
              "      <td>Egypt</td>\n",
              "      <td>let the work of data for me 📊 and get the busi...</td>\n",
              "      <td>25.0</td>\n",
              "      <td>97%</td>\n",
              "      <td>Giza</td>\n",
              "      <td>Abeer K.</td>\n",
              "      <td>Python|Machine Learning|Scrapy|Data Science|SQ...</td>\n",
              "      <td>Data Scientist | Web Scraping Engineer</td>\n",
              "      <td>405.0</td>\n",
              "      <td>69</td>\n",
              "    </tr>\n",
              "    <tr>\n",
              "      <th>1</th>\n",
              "      <td>Serbia</td>\n",
              "      <td>I am master environmental protection analyst a...</td>\n",
              "      <td>15.0</td>\n",
              "      <td>97%</td>\n",
              "      <td>Belgrade</td>\n",
              "      <td>Nikola M.</td>\n",
              "      <td>Data Entry|Google Docs|Online Research|Lead Ge...</td>\n",
              "      <td>Researcher</td>\n",
              "      <td>354.0</td>\n",
              "      <td>68</td>\n",
              "    </tr>\n",
              "    <tr>\n",
              "      <th>2</th>\n",
              "      <td>Philippines</td>\n",
              "      <td>Specializes in automated Excel solutions that ...</td>\n",
              "      <td>60.0</td>\n",
              "      <td>100%</td>\n",
              "      <td>Manila</td>\n",
              "      <td>Ramil, Jr. A.</td>\n",
              "      <td>Microsoft Excel|Excel Formula|Excel Macros|Vis...</td>\n",
              "      <td>Excel | VBA | Macros | Google Sheets Expert</td>\n",
              "      <td>15.0</td>\n",
              "      <td>351</td>\n",
              "    </tr>\n",
              "    <tr>\n",
              "      <th>3</th>\n",
              "      <td>United States</td>\n",
              "      <td>Data Science and Machine Learning Expert for H...</td>\n",
              "      <td>500.0</td>\n",
              "      <td>100%</td>\n",
              "      <td>Wyckoff</td>\n",
              "      <td>Jason K.</td>\n",
              "      <td>Deep Learning|Python|Data Science|Machine Lear...</td>\n",
              "      <td>Data Science &amp; AI Expert- Senior Machine Learn...</td>\n",
              "      <td>434.0</td>\n",
              "      <td>80</td>\n",
              "    </tr>\n",
              "    <tr>\n",
              "      <th>4</th>\n",
              "      <td>Pakistan</td>\n",
              "      <td>🔴🟡🔴🟡🔴🟡🔴🟡🔴🟡🟡🟡🟡🟡🟡🟡\" I can do anything with Pytho...</td>\n",
              "      <td>25.0</td>\n",
              "      <td>82%</td>\n",
              "      <td>Karachi</td>\n",
              "      <td>Muhammad Noman B.</td>\n",
              "      <td>Data Science|Machine Learning|pandas|Microsoft...</td>\n",
              "      <td>Data Science | Python Projects | Machine Learn...</td>\n",
              "      <td>4.0</td>\n",
              "      <td>11</td>\n",
              "    </tr>\n",
              "  </tbody>\n",
              "</table>\n",
              "</div>\n",
              "    <div class=\"colab-df-buttons\">\n",
              "\n",
              "  <div class=\"colab-df-container\">\n",
              "    <button class=\"colab-df-convert\" onclick=\"convertToInteractive('df-27d7d871-9fb7-4014-9f85-a213eab9cc66')\"\n",
              "            title=\"Convert this dataframe to an interactive table.\"\n",
              "            style=\"display:none;\">\n",
              "\n",
              "  <svg xmlns=\"http://www.w3.org/2000/svg\" height=\"24px\" viewBox=\"0 -960 960 960\">\n",
              "    <path d=\"M120-120v-720h720v720H120Zm60-500h600v-160H180v160Zm220 220h160v-160H400v160Zm0 220h160v-160H400v160ZM180-400h160v-160H180v160Zm440 0h160v-160H620v160ZM180-180h160v-160H180v160Zm440 0h160v-160H620v160Z\"/>\n",
              "  </svg>\n",
              "    </button>\n",
              "\n",
              "  <style>\n",
              "    .colab-df-container {\n",
              "      display:flex;\n",
              "      gap: 12px;\n",
              "    }\n",
              "\n",
              "    .colab-df-convert {\n",
              "      background-color: #E8F0FE;\n",
              "      border: none;\n",
              "      border-radius: 50%;\n",
              "      cursor: pointer;\n",
              "      display: none;\n",
              "      fill: #1967D2;\n",
              "      height: 32px;\n",
              "      padding: 0 0 0 0;\n",
              "      width: 32px;\n",
              "    }\n",
              "\n",
              "    .colab-df-convert:hover {\n",
              "      background-color: #E2EBFA;\n",
              "      box-shadow: 0px 1px 2px rgba(60, 64, 67, 0.3), 0px 1px 3px 1px rgba(60, 64, 67, 0.15);\n",
              "      fill: #174EA6;\n",
              "    }\n",
              "\n",
              "    .colab-df-buttons div {\n",
              "      margin-bottom: 4px;\n",
              "    }\n",
              "\n",
              "    [theme=dark] .colab-df-convert {\n",
              "      background-color: #3B4455;\n",
              "      fill: #D2E3FC;\n",
              "    }\n",
              "\n",
              "    [theme=dark] .colab-df-convert:hover {\n",
              "      background-color: #434B5C;\n",
              "      box-shadow: 0px 1px 3px 1px rgba(0, 0, 0, 0.15);\n",
              "      filter: drop-shadow(0px 1px 2px rgba(0, 0, 0, 0.3));\n",
              "      fill: #FFFFFF;\n",
              "    }\n",
              "  </style>\n",
              "\n",
              "    <script>\n",
              "      const buttonEl =\n",
              "        document.querySelector('#df-27d7d871-9fb7-4014-9f85-a213eab9cc66 button.colab-df-convert');\n",
              "      buttonEl.style.display =\n",
              "        google.colab.kernel.accessAllowed ? 'block' : 'none';\n",
              "\n",
              "      async function convertToInteractive(key) {\n",
              "        const element = document.querySelector('#df-27d7d871-9fb7-4014-9f85-a213eab9cc66');\n",
              "        const dataTable =\n",
              "          await google.colab.kernel.invokeFunction('convertToInteractive',\n",
              "                                                    [key], {});\n",
              "        if (!dataTable) return;\n",
              "\n",
              "        const docLinkHtml = 'Like what you see? Visit the ' +\n",
              "          '<a target=\"_blank\" href=https://colab.research.google.com/notebooks/data_table.ipynb>data table notebook</a>'\n",
              "          + ' to learn more about interactive tables.';\n",
              "        element.innerHTML = '';\n",
              "        dataTable['output_type'] = 'display_data';\n",
              "        await google.colab.output.renderOutput(dataTable, element);\n",
              "        const docLink = document.createElement('div');\n",
              "        docLink.innerHTML = docLinkHtml;\n",
              "        element.appendChild(docLink);\n",
              "      }\n",
              "    </script>\n",
              "  </div>\n",
              "\n",
              "\n",
              "<div id=\"df-9347acd3-d6fc-4f85-9526-7b492147fa55\">\n",
              "  <button class=\"colab-df-quickchart\" onclick=\"quickchart('df-9347acd3-d6fc-4f85-9526-7b492147fa55')\"\n",
              "            title=\"Suggest charts\"\n",
              "            style=\"display:none;\">\n",
              "\n",
              "<svg xmlns=\"http://www.w3.org/2000/svg\" height=\"24px\"viewBox=\"0 0 24 24\"\n",
              "     width=\"24px\">\n",
              "    <g>\n",
              "        <path d=\"M19 3H5c-1.1 0-2 .9-2 2v14c0 1.1.9 2 2 2h14c1.1 0 2-.9 2-2V5c0-1.1-.9-2-2-2zM9 17H7v-7h2v7zm4 0h-2V7h2v10zm4 0h-2v-4h2v4z\"/>\n",
              "    </g>\n",
              "</svg>\n",
              "  </button>\n",
              "\n",
              "<style>\n",
              "  .colab-df-quickchart {\n",
              "      --bg-color: #E8F0FE;\n",
              "      --fill-color: #1967D2;\n",
              "      --hover-bg-color: #E2EBFA;\n",
              "      --hover-fill-color: #174EA6;\n",
              "      --disabled-fill-color: #AAA;\n",
              "      --disabled-bg-color: #DDD;\n",
              "  }\n",
              "\n",
              "  [theme=dark] .colab-df-quickchart {\n",
              "      --bg-color: #3B4455;\n",
              "      --fill-color: #D2E3FC;\n",
              "      --hover-bg-color: #434B5C;\n",
              "      --hover-fill-color: #FFFFFF;\n",
              "      --disabled-bg-color: #3B4455;\n",
              "      --disabled-fill-color: #666;\n",
              "  }\n",
              "\n",
              "  .colab-df-quickchart {\n",
              "    background-color: var(--bg-color);\n",
              "    border: none;\n",
              "    border-radius: 50%;\n",
              "    cursor: pointer;\n",
              "    display: none;\n",
              "    fill: var(--fill-color);\n",
              "    height: 32px;\n",
              "    padding: 0;\n",
              "    width: 32px;\n",
              "  }\n",
              "\n",
              "  .colab-df-quickchart:hover {\n",
              "    background-color: var(--hover-bg-color);\n",
              "    box-shadow: 0 1px 2px rgba(60, 64, 67, 0.3), 0 1px 3px 1px rgba(60, 64, 67, 0.15);\n",
              "    fill: var(--button-hover-fill-color);\n",
              "  }\n",
              "\n",
              "  .colab-df-quickchart-complete:disabled,\n",
              "  .colab-df-quickchart-complete:disabled:hover {\n",
              "    background-color: var(--disabled-bg-color);\n",
              "    fill: var(--disabled-fill-color);\n",
              "    box-shadow: none;\n",
              "  }\n",
              "\n",
              "  .colab-df-spinner {\n",
              "    border: 2px solid var(--fill-color);\n",
              "    border-color: transparent;\n",
              "    border-bottom-color: var(--fill-color);\n",
              "    animation:\n",
              "      spin 1s steps(1) infinite;\n",
              "  }\n",
              "\n",
              "  @keyframes spin {\n",
              "    0% {\n",
              "      border-color: transparent;\n",
              "      border-bottom-color: var(--fill-color);\n",
              "      border-left-color: var(--fill-color);\n",
              "    }\n",
              "    20% {\n",
              "      border-color: transparent;\n",
              "      border-left-color: var(--fill-color);\n",
              "      border-top-color: var(--fill-color);\n",
              "    }\n",
              "    30% {\n",
              "      border-color: transparent;\n",
              "      border-left-color: var(--fill-color);\n",
              "      border-top-color: var(--fill-color);\n",
              "      border-right-color: var(--fill-color);\n",
              "    }\n",
              "    40% {\n",
              "      border-color: transparent;\n",
              "      border-right-color: var(--fill-color);\n",
              "      border-top-color: var(--fill-color);\n",
              "    }\n",
              "    60% {\n",
              "      border-color: transparent;\n",
              "      border-right-color: var(--fill-color);\n",
              "    }\n",
              "    80% {\n",
              "      border-color: transparent;\n",
              "      border-right-color: var(--fill-color);\n",
              "      border-bottom-color: var(--fill-color);\n",
              "    }\n",
              "    90% {\n",
              "      border-color: transparent;\n",
              "      border-bottom-color: var(--fill-color);\n",
              "    }\n",
              "  }\n",
              "</style>\n",
              "\n",
              "  <script>\n",
              "    async function quickchart(key) {\n",
              "      const quickchartButtonEl =\n",
              "        document.querySelector('#' + key + ' button');\n",
              "      quickchartButtonEl.disabled = true;  // To prevent multiple clicks.\n",
              "      quickchartButtonEl.classList.add('colab-df-spinner');\n",
              "      try {\n",
              "        const charts = await google.colab.kernel.invokeFunction(\n",
              "            'suggestCharts', [key], {});\n",
              "      } catch (error) {\n",
              "        console.error('Error during call to suggestCharts:', error);\n",
              "      }\n",
              "      quickchartButtonEl.classList.remove('colab-df-spinner');\n",
              "      quickchartButtonEl.classList.add('colab-df-quickchart-complete');\n",
              "    }\n",
              "    (() => {\n",
              "      let quickchartButtonEl =\n",
              "        document.querySelector('#df-9347acd3-d6fc-4f85-9526-7b492147fa55 button');\n",
              "      quickchartButtonEl.style.display =\n",
              "        google.colab.kernel.accessAllowed ? 'block' : 'none';\n",
              "    })();\n",
              "  </script>\n",
              "</div>\n",
              "\n",
              "    </div>\n",
              "  </div>\n"
            ],
            "application/vnd.google.colaboratory.intrinsic+json": {
              "type": "dataframe",
              "variable_name": "df_freelancer",
              "summary": "{\n  \"name\": \"df_freelancer\",\n  \"rows\": 132,\n  \"fields\": [\n    {\n      \"column\": \"country\",\n      \"properties\": {\n        \"dtype\": \"category\",\n        \"num_unique_values\": 29,\n        \"samples\": [\n          \"Kenya\",\n          \"Israel\",\n          \"Germany\"\n        ],\n        \"semantic_type\": \"\",\n        \"description\": \"\"\n      }\n    },\n    {\n      \"column\": \"description\",\n      \"properties\": {\n        \"dtype\": \"string\",\n        \"num_unique_values\": 132,\n        \"samples\": [\n          \"For the past 15 years, I have worked as an operator and Analytical Chemist for several laboratories, where I have developed my carrier skills while I 'm enjoying this role. Also, I got the following experience :operation role :* Supervision and quality control* Operation and sterilization and purification units* Training of technicians to monitor and follow-up field works* Preparation to select the operating doses* Preparation of chemical solutions for laboratory and calibration devices* Troubleshooting and maintenance for such instruments* Monitoring and evaluation of row water dailyAnalytical roles :*Collection of water, wastewater, and soil samples.* Preparation and analyses of these samples according to the internationally documented methods \\\"standard & USEPA methods\\\" using a different analytical instrument \\\"e.g. pH meter, Conductivity, TDS, TSS, T's turbidimeter, FTIR, and Spectrophotometer UV/vis \\\".* Application of the QA / QC requirements of such methods.* Preparation of all standard solutions and reagents used in analyses and determination of \\\"free Chlorine, ammonia, nitrate, nitrite, phosphate, silica, iron, aluminum, fluoride, alkalinity, chloride ion, total hardness, Ca hardness, Mg hardness, Ca, Mg, Mn, DO, BOD, COD, Oxygen consuming permanganate value and sulfate.*General knowledge of analytical instrumentation like HPLC, GC, GC-MS, ICP, Atomic absorption, FTIR, and UV-VIS equipment.* Preparation of all standard media for microbiology tests (( ager -lauryl sulfate - m endo broth )) for detection Plate count ager PCA, coliform group. Fecal coliform and fecal streptococcus* Count and classification of algae of fresh row water like diatoms green and blue-green algaeusing rafter slide*sterilization and disinfection by autoclave and oven of bottles of samples and equipment used in a micro lab.=========================================================================i can help clients in a lot of jobs like :Cosmetic and detergent formualtionsskincare , haircare , pigments , detrigent , supplemtschemistry writingchemistry searchingchemistry proofreadingtranslation from English to Arabictranslation from Arabic to Englishscientific researchscientific proposalscientific reviewscientific article reviewdata entryweb researchconvert PDF to any Microsoft office program (word,excel ,power point )making PDF from images or Microsoft officechemdraw editingEndNote x9 references managementchemistry teaching ( Arabic speaker )\",\n          \"\\ud83c\\udfac Filmmaker \\ud83d\\udcca Project Designer Manager \\ud83d\\udc68\\ud83c\\udffb\\u200d\\ud83d\\udcbcAdministrative Support Specialist\\n\\u2b50\\ufe0f Top Rated Plus\\u2b50\\ufe0f Timezones availability: USA (EST, MST and PST)\\u2b50\\ufe0f 100% Job Success Score\\u2b50\\ufe0f 100% Client Recommendation\\u2b50\\ufe0f 12,000+ Upwork hours\\u2b50\\ufe0f 100 Jobs Successfully CompletedI am a highly skilled and experienced Administrative Support Specialist, Filmmaker, and Project Designer with over 8 years of experience. I have a proven track record of success in helping businesses of all sizes improve their productivity and efficiency.My tools and specialties include:\\u2705 Youtube Content Writer\\u2705 Youtube Film Making\\u2705 Content Creator\\u2705 Cinematic Video creator (High Level)\\u2705 Template creator\\u2705 Notion Expert\\u2705 ClickUp Experts\\u2705 Web Scraper & Data Mining\\u2705 QA Specialist\\u2705 Wix/WordPress Site Building\\u2705 Social Media manager\\u2705 Website Management / Structure\\u2705 Helpdesk Specialist\\u2705 Verified / Deliverable Emails and Data Research\\u2705 Business Development\\u2705 Lead Generation\\u2705 Email Validation\\u2705 Microsoft Excel\\u2705 Microsoft Word\\u2705 Contact & Email List Building\\u2705 LinkedIn data collection\\u2705 LinkedIn Lead Generation\\u2705 Data Entry\\u2705 Airtable\\u2705 Web Research\\u2705 Google Spreadsheet\\u2705 Google Docs\\u2705 Email Marketing\\u2705 Internet Marketing\\u2705 Digital Marketing (SEO, SEM, SMM & App store Optimisation)\\u2705 Business Email Collecting\\u2705 LinkedIn Expert\\u2705 Internet Search\\u2705 Blog Commenting\\u2705 Website Traffic Management\\u2705 Instagram Expert\\u2705 Social Media MarketingI am a reliable freelancer who delivers high-quality solutions on time and at a very reasonable price. I am also passionate about building long-term relationships with my clients.I am confident that I have the skills and experience to help you achieve your business goals. Please feel free to contact me to discuss your specific needs and how I can help.Thank you,Faizan\",\n          \"A one stop shop providing you the best Artificial Intelligence (AI), Management Information System (MIS), and Data Analytics Solutions.\\ud83c\\udf93 Certified Machine Learning Engineer, \\ud83c\\udfc6 Completed 30+ Jobs, Data Analytics, Stable Diffusion, ChatGPT, LongChain, Deep Learning, and AI-based projects.As a highly experienced Data Scientist and Machine Learning Engineer with a strong mathematical background, I have successfully delivered multiple projects using cutting-edge technologies such as OpenAI GPT-4, ChatGPT, and Stable Diffusion. I am well-versed in various domains of data analytics, machine learning, and data engineering.I possess a deep understanding of data pre-processing, visualization, and extraction, having worked with tools such as Python, R, pandas, dataframes, Microsoft PowerBI, RESTfull API, SQL, Azure Data Factory, Azure Synapse, Postgres, MySQL, and MongoDB. I am also proficient in managing AWS/ES2/S3 infrastructure. I have extensive experience in various areas of data science, such as Natural Language Processing, Regression and Prediction Models, Database Management, Time Series Analysis, Fraud and Anomaly Detection, Recommendation Systems, and Computer Vision. My projects have consistently demonstrated my ability to turn complex data into insights that drive business value.\\ud83c\\udf1fExpertise\\ud83c\\udf1f- Data Analytics- Machine Learning- Deep Learning- Data Integration and Engineering- SSIS, SSAS, SSRS, Power BI- Business Intelligence- Google Data Studio (Looker)- QlikSense, Tableau, MS Power BI, D3.js, Streamlit, FLASK, Django- Excel, Google Sheets, Big Query, Google Data Analytics, Google Tag Manager, and many others- Database: MySQL/Postgres SQL- Web ScrapingData Visualization:- Power BI | Tableau | Megadata | Google Data Studio | Klaviyo- ArcGIS | Mapbox | Google Maps & Earth | QGIS | Cesium- Three.js | Babylon.js | GSAP- D3.js | Chart.js | HighchartsScripting and automation:- PythonSo, if you think I can help you with your project, contact me today so we can schedule a consultation. I will be more than happy to find the best solution for you.Best Regards,Muhammad Ameer Hamza\"\n        ],\n        \"semantic_type\": \"\",\n        \"description\": \"\"\n      }\n    },\n    {\n      \"column\": \"hourlyRate\",\n      \"properties\": {\n        \"dtype\": \"number\",\n        \"std\": 47.55445465999461,\n        \"min\": 3.0,\n        \"max\": 500.0,\n        \"num_unique_values\": 46,\n        \"samples\": [\n          17.0,\n          5.0,\n          6.5\n        ],\n        \"semantic_type\": \"\",\n        \"description\": \"\"\n      }\n    },\n    {\n      \"column\": \"jobSuccess\",\n      \"properties\": {\n        \"dtype\": \"category\",\n        \"num_unique_values\": 22,\n        \"samples\": [\n          \"97%\",\n          \"99%\",\n          \"89%\"\n        ],\n        \"semantic_type\": \"\",\n        \"description\": \"\"\n      }\n    },\n    {\n      \"column\": \"locality\",\n      \"properties\": {\n        \"dtype\": \"string\",\n        \"num_unique_values\": 89,\n        \"samples\": [\n          \"Brahmanbaria\",\n          \"Alexandria\",\n          \"Stone Mountain\"\n        ],\n        \"semantic_type\": \"\",\n        \"description\": \"\"\n      }\n    },\n    {\n      \"column\": \"name\",\n      \"properties\": {\n        \"dtype\": \"string\",\n        \"num_unique_values\": 132,\n        \"samples\": [\n          \"Ahmed o.\",\n          \"Faizan Z.\",\n          \"Muhammad Ameer H.\"\n        ],\n        \"semantic_type\": \"\",\n        \"description\": \"\"\n      }\n    },\n    {\n      \"column\": \"skills\",\n      \"properties\": {\n        \"dtype\": \"string\",\n        \"num_unique_values\": 132,\n        \"samples\": [\n          \"Synthetic Chemistry|Product Formulation|Inorganic Chemistry|Cosmetics|Mass Spectrometry|Organic Chemistry|Cosmetic Raw Materials|Scientific Writing|Scientific Research|English to Arabic Translation|Environmental Science|Microsoft Office|Technical Writing\",\n          \"WordPress|Blockchain|Data Scraping|Data Mining|Data Collection|Video Shoot|Videography|Microsoft Excel|Video Editing Software|Video Editing|Video Marketing|Video Editing & Production|Google Docs\",\n          \"Microsoft Excel|Microsoft Power BI|Data Visualization|Looker Studio|Tableau|Sales Analytics|Business Intelligence|Data Analysis|Google Tag Manager|Data Science|Machine Learning|Analytics Dashboard|Oracle|Google Ads|SQL Programming\"\n        ],\n        \"semantic_type\": \"\",\n        \"description\": \"\"\n      }\n    },\n    {\n      \"column\": \"title\",\n      \"properties\": {\n        \"dtype\": \"string\",\n        \"num_unique_values\": 128,\n        \"samples\": [\n          \"B2B Lead Generation, Contact List Building, Prospect List, Data Mining\",\n          \"Machine Learning | Artificial Intelligence | Python Development\",\n          \"Python/Flask/ChatGPT | Machine Learning | AI | Web Scraping\"\n        ],\n        \"semantic_type\": \"\",\n        \"description\": \"\"\n      }\n    },\n    {\n      \"column\": \"totalHours\",\n      \"properties\": {\n        \"dtype\": \"number\",\n        \"std\": 309.2681931170588,\n        \"min\": 1.0,\n        \"max\": 996.0,\n        \"num_unique_values\": 106,\n        \"samples\": [\n          353.0,\n          50.0,\n          4.0\n        ],\n        \"semantic_type\": \"\",\n        \"description\": \"\"\n      }\n    },\n    {\n      \"column\": \"totalJobs\",\n      \"properties\": {\n        \"dtype\": \"number\",\n        \"std\": 100,\n        \"min\": 1,\n        \"max\": 486,\n        \"num_unique_values\": 81,\n        \"samples\": [\n          486,\n          69,\n          364\n        ],\n        \"semantic_type\": \"\",\n        \"description\": \"\"\n      }\n    }\n  ]\n}"
            }
          },
          "metadata": {},
          "execution_count": 3
        }
      ]
    },
    {
      "cell_type": "code",
      "source": [
        "df_jobs.head()"
      ],
      "metadata": {
        "colab": {
          "base_uri": "https://localhost:8080/",
          "height": 590
        },
        "id": "PUj8jL0g9cm1",
        "outputId": "eaa3064b-256f-4760-d9f6-4e58f6a35cd4"
      },
      "execution_count": 4,
      "outputs": [
        {
          "output_type": "execute_result",
          "data": {
            "text/plain": [
              "   projectId                                          job_title  \\\n",
              "0   37426471  development and implementation of a federated ...   \n",
              "1   37421546                                   Data Entry  -- 2   \n",
              "2   37400492                                         Data Scrap   \n",
              "3   37404568                                   Big Data Project   \n",
              "4   37397423            Virtual Assistant / Research Assistant    \n",
              "\n",
              "                                     job_description  \\\n",
              "0  please bid only if you are ready to do the wor...   \n",
              "1  Project Title: Data Entry - Data Analysis in E...   \n",
              "2  I am looking for a freelancer who can help me ...   \n",
              "3  Store Sales Data Analysis: A Data Engineering ...   \n",
              "4  Job Description: I am seeking a Virtual Assist...   \n",
              "\n",
              "                                                tags client_state  \\\n",
              "0  ['algorithm', 'java', 'python', 'machine learn...    Heilbronn   \n",
              "1  ['excel', 'statistical analysis', 'statistics'...       Nagpur   \n",
              "2  ['web scraping', 'data mining', 'data entry', ...     Eaubonne   \n",
              "3  ['big data sales', 'data science', 'data minin...       Mundra   \n",
              "4  ['data entry', 'virtual assistant', 'web searc...          NaN   \n",
              "\n",
              "  client_country  client_average_rating  client_review_count  min_price  \\\n",
              "0        Germany                    5.0                   17        8.0   \n",
              "1          India                    0.0                    0      750.0   \n",
              "2         France                    5.0                    1       30.0   \n",
              "3          India                    5.0                    2     5000.0   \n",
              "4  United States                    0.0                    0        5.0   \n",
              "\n",
              "   max_price  avg_price currency rate_type  \n",
              "0       30.0       19.0      EUR     fixed  \n",
              "1     1250.0     1000.0      INR    hourly  \n",
              "2      250.0      140.0      EUR     fixed  \n",
              "3     5500.0     5250.0      INR     fixed  \n",
              "4       15.0       10.0      USD    hourly  "
            ],
            "text/html": [
              "\n",
              "  <div id=\"df-fe36f395-5ecf-498a-8022-ef58da4a079e\" class=\"colab-df-container\">\n",
              "    <div>\n",
              "<style scoped>\n",
              "    .dataframe tbody tr th:only-of-type {\n",
              "        vertical-align: middle;\n",
              "    }\n",
              "\n",
              "    .dataframe tbody tr th {\n",
              "        vertical-align: top;\n",
              "    }\n",
              "\n",
              "    .dataframe thead th {\n",
              "        text-align: right;\n",
              "    }\n",
              "</style>\n",
              "<table border=\"1\" class=\"dataframe\">\n",
              "  <thead>\n",
              "    <tr style=\"text-align: right;\">\n",
              "      <th></th>\n",
              "      <th>projectId</th>\n",
              "      <th>job_title</th>\n",
              "      <th>job_description</th>\n",
              "      <th>tags</th>\n",
              "      <th>client_state</th>\n",
              "      <th>client_country</th>\n",
              "      <th>client_average_rating</th>\n",
              "      <th>client_review_count</th>\n",
              "      <th>min_price</th>\n",
              "      <th>max_price</th>\n",
              "      <th>avg_price</th>\n",
              "      <th>currency</th>\n",
              "      <th>rate_type</th>\n",
              "    </tr>\n",
              "  </thead>\n",
              "  <tbody>\n",
              "    <tr>\n",
              "      <th>0</th>\n",
              "      <td>37426471</td>\n",
              "      <td>development and implementation of a federated ...</td>\n",
              "      <td>please bid only if you are ready to do the wor...</td>\n",
              "      <td>['algorithm', 'java', 'python', 'machine learn...</td>\n",
              "      <td>Heilbronn</td>\n",
              "      <td>Germany</td>\n",
              "      <td>5.0</td>\n",
              "      <td>17</td>\n",
              "      <td>8.0</td>\n",
              "      <td>30.0</td>\n",
              "      <td>19.0</td>\n",
              "      <td>EUR</td>\n",
              "      <td>fixed</td>\n",
              "    </tr>\n",
              "    <tr>\n",
              "      <th>1</th>\n",
              "      <td>37421546</td>\n",
              "      <td>Data Entry  -- 2</td>\n",
              "      <td>Project Title: Data Entry - Data Analysis in E...</td>\n",
              "      <td>['excel', 'statistical analysis', 'statistics'...</td>\n",
              "      <td>Nagpur</td>\n",
              "      <td>India</td>\n",
              "      <td>0.0</td>\n",
              "      <td>0</td>\n",
              "      <td>750.0</td>\n",
              "      <td>1250.0</td>\n",
              "      <td>1000.0</td>\n",
              "      <td>INR</td>\n",
              "      <td>hourly</td>\n",
              "    </tr>\n",
              "    <tr>\n",
              "      <th>2</th>\n",
              "      <td>37400492</td>\n",
              "      <td>Data Scrap</td>\n",
              "      <td>I am looking for a freelancer who can help me ...</td>\n",
              "      <td>['web scraping', 'data mining', 'data entry', ...</td>\n",
              "      <td>Eaubonne</td>\n",
              "      <td>France</td>\n",
              "      <td>5.0</td>\n",
              "      <td>1</td>\n",
              "      <td>30.0</td>\n",
              "      <td>250.0</td>\n",
              "      <td>140.0</td>\n",
              "      <td>EUR</td>\n",
              "      <td>fixed</td>\n",
              "    </tr>\n",
              "    <tr>\n",
              "      <th>3</th>\n",
              "      <td>37404568</td>\n",
              "      <td>Big Data Project</td>\n",
              "      <td>Store Sales Data Analysis: A Data Engineering ...</td>\n",
              "      <td>['big data sales', 'data science', 'data minin...</td>\n",
              "      <td>Mundra</td>\n",
              "      <td>India</td>\n",
              "      <td>5.0</td>\n",
              "      <td>2</td>\n",
              "      <td>5000.0</td>\n",
              "      <td>5500.0</td>\n",
              "      <td>5250.0</td>\n",
              "      <td>INR</td>\n",
              "      <td>fixed</td>\n",
              "    </tr>\n",
              "    <tr>\n",
              "      <th>4</th>\n",
              "      <td>37397423</td>\n",
              "      <td>Virtual Assistant / Research Assistant</td>\n",
              "      <td>Job Description: I am seeking a Virtual Assist...</td>\n",
              "      <td>['data entry', 'virtual assistant', 'web searc...</td>\n",
              "      <td>NaN</td>\n",
              "      <td>United States</td>\n",
              "      <td>0.0</td>\n",
              "      <td>0</td>\n",
              "      <td>5.0</td>\n",
              "      <td>15.0</td>\n",
              "      <td>10.0</td>\n",
              "      <td>USD</td>\n",
              "      <td>hourly</td>\n",
              "    </tr>\n",
              "  </tbody>\n",
              "</table>\n",
              "</div>\n",
              "    <div class=\"colab-df-buttons\">\n",
              "\n",
              "  <div class=\"colab-df-container\">\n",
              "    <button class=\"colab-df-convert\" onclick=\"convertToInteractive('df-fe36f395-5ecf-498a-8022-ef58da4a079e')\"\n",
              "            title=\"Convert this dataframe to an interactive table.\"\n",
              "            style=\"display:none;\">\n",
              "\n",
              "  <svg xmlns=\"http://www.w3.org/2000/svg\" height=\"24px\" viewBox=\"0 -960 960 960\">\n",
              "    <path d=\"M120-120v-720h720v720H120Zm60-500h600v-160H180v160Zm220 220h160v-160H400v160Zm0 220h160v-160H400v160ZM180-400h160v-160H180v160Zm440 0h160v-160H620v160ZM180-180h160v-160H180v160Zm440 0h160v-160H620v160Z\"/>\n",
              "  </svg>\n",
              "    </button>\n",
              "\n",
              "  <style>\n",
              "    .colab-df-container {\n",
              "      display:flex;\n",
              "      gap: 12px;\n",
              "    }\n",
              "\n",
              "    .colab-df-convert {\n",
              "      background-color: #E8F0FE;\n",
              "      border: none;\n",
              "      border-radius: 50%;\n",
              "      cursor: pointer;\n",
              "      display: none;\n",
              "      fill: #1967D2;\n",
              "      height: 32px;\n",
              "      padding: 0 0 0 0;\n",
              "      width: 32px;\n",
              "    }\n",
              "\n",
              "    .colab-df-convert:hover {\n",
              "      background-color: #E2EBFA;\n",
              "      box-shadow: 0px 1px 2px rgba(60, 64, 67, 0.3), 0px 1px 3px 1px rgba(60, 64, 67, 0.15);\n",
              "      fill: #174EA6;\n",
              "    }\n",
              "\n",
              "    .colab-df-buttons div {\n",
              "      margin-bottom: 4px;\n",
              "    }\n",
              "\n",
              "    [theme=dark] .colab-df-convert {\n",
              "      background-color: #3B4455;\n",
              "      fill: #D2E3FC;\n",
              "    }\n",
              "\n",
              "    [theme=dark] .colab-df-convert:hover {\n",
              "      background-color: #434B5C;\n",
              "      box-shadow: 0px 1px 3px 1px rgba(0, 0, 0, 0.15);\n",
              "      filter: drop-shadow(0px 1px 2px rgba(0, 0, 0, 0.3));\n",
              "      fill: #FFFFFF;\n",
              "    }\n",
              "  </style>\n",
              "\n",
              "    <script>\n",
              "      const buttonEl =\n",
              "        document.querySelector('#df-fe36f395-5ecf-498a-8022-ef58da4a079e button.colab-df-convert');\n",
              "      buttonEl.style.display =\n",
              "        google.colab.kernel.accessAllowed ? 'block' : 'none';\n",
              "\n",
              "      async function convertToInteractive(key) {\n",
              "        const element = document.querySelector('#df-fe36f395-5ecf-498a-8022-ef58da4a079e');\n",
              "        const dataTable =\n",
              "          await google.colab.kernel.invokeFunction('convertToInteractive',\n",
              "                                                    [key], {});\n",
              "        if (!dataTable) return;\n",
              "\n",
              "        const docLinkHtml = 'Like what you see? Visit the ' +\n",
              "          '<a target=\"_blank\" href=https://colab.research.google.com/notebooks/data_table.ipynb>data table notebook</a>'\n",
              "          + ' to learn more about interactive tables.';\n",
              "        element.innerHTML = '';\n",
              "        dataTable['output_type'] = 'display_data';\n",
              "        await google.colab.output.renderOutput(dataTable, element);\n",
              "        const docLink = document.createElement('div');\n",
              "        docLink.innerHTML = docLinkHtml;\n",
              "        element.appendChild(docLink);\n",
              "      }\n",
              "    </script>\n",
              "  </div>\n",
              "\n",
              "\n",
              "<div id=\"df-0f89d527-5867-46c3-a48a-6c5bd7571adb\">\n",
              "  <button class=\"colab-df-quickchart\" onclick=\"quickchart('df-0f89d527-5867-46c3-a48a-6c5bd7571adb')\"\n",
              "            title=\"Suggest charts\"\n",
              "            style=\"display:none;\">\n",
              "\n",
              "<svg xmlns=\"http://www.w3.org/2000/svg\" height=\"24px\"viewBox=\"0 0 24 24\"\n",
              "     width=\"24px\">\n",
              "    <g>\n",
              "        <path d=\"M19 3H5c-1.1 0-2 .9-2 2v14c0 1.1.9 2 2 2h14c1.1 0 2-.9 2-2V5c0-1.1-.9-2-2-2zM9 17H7v-7h2v7zm4 0h-2V7h2v10zm4 0h-2v-4h2v4z\"/>\n",
              "    </g>\n",
              "</svg>\n",
              "  </button>\n",
              "\n",
              "<style>\n",
              "  .colab-df-quickchart {\n",
              "      --bg-color: #E8F0FE;\n",
              "      --fill-color: #1967D2;\n",
              "      --hover-bg-color: #E2EBFA;\n",
              "      --hover-fill-color: #174EA6;\n",
              "      --disabled-fill-color: #AAA;\n",
              "      --disabled-bg-color: #DDD;\n",
              "  }\n",
              "\n",
              "  [theme=dark] .colab-df-quickchart {\n",
              "      --bg-color: #3B4455;\n",
              "      --fill-color: #D2E3FC;\n",
              "      --hover-bg-color: #434B5C;\n",
              "      --hover-fill-color: #FFFFFF;\n",
              "      --disabled-bg-color: #3B4455;\n",
              "      --disabled-fill-color: #666;\n",
              "  }\n",
              "\n",
              "  .colab-df-quickchart {\n",
              "    background-color: var(--bg-color);\n",
              "    border: none;\n",
              "    border-radius: 50%;\n",
              "    cursor: pointer;\n",
              "    display: none;\n",
              "    fill: var(--fill-color);\n",
              "    height: 32px;\n",
              "    padding: 0;\n",
              "    width: 32px;\n",
              "  }\n",
              "\n",
              "  .colab-df-quickchart:hover {\n",
              "    background-color: var(--hover-bg-color);\n",
              "    box-shadow: 0 1px 2px rgba(60, 64, 67, 0.3), 0 1px 3px 1px rgba(60, 64, 67, 0.15);\n",
              "    fill: var(--button-hover-fill-color);\n",
              "  }\n",
              "\n",
              "  .colab-df-quickchart-complete:disabled,\n",
              "  .colab-df-quickchart-complete:disabled:hover {\n",
              "    background-color: var(--disabled-bg-color);\n",
              "    fill: var(--disabled-fill-color);\n",
              "    box-shadow: none;\n",
              "  }\n",
              "\n",
              "  .colab-df-spinner {\n",
              "    border: 2px solid var(--fill-color);\n",
              "    border-color: transparent;\n",
              "    border-bottom-color: var(--fill-color);\n",
              "    animation:\n",
              "      spin 1s steps(1) infinite;\n",
              "  }\n",
              "\n",
              "  @keyframes spin {\n",
              "    0% {\n",
              "      border-color: transparent;\n",
              "      border-bottom-color: var(--fill-color);\n",
              "      border-left-color: var(--fill-color);\n",
              "    }\n",
              "    20% {\n",
              "      border-color: transparent;\n",
              "      border-left-color: var(--fill-color);\n",
              "      border-top-color: var(--fill-color);\n",
              "    }\n",
              "    30% {\n",
              "      border-color: transparent;\n",
              "      border-left-color: var(--fill-color);\n",
              "      border-top-color: var(--fill-color);\n",
              "      border-right-color: var(--fill-color);\n",
              "    }\n",
              "    40% {\n",
              "      border-color: transparent;\n",
              "      border-right-color: var(--fill-color);\n",
              "      border-top-color: var(--fill-color);\n",
              "    }\n",
              "    60% {\n",
              "      border-color: transparent;\n",
              "      border-right-color: var(--fill-color);\n",
              "    }\n",
              "    80% {\n",
              "      border-color: transparent;\n",
              "      border-right-color: var(--fill-color);\n",
              "      border-bottom-color: var(--fill-color);\n",
              "    }\n",
              "    90% {\n",
              "      border-color: transparent;\n",
              "      border-bottom-color: var(--fill-color);\n",
              "    }\n",
              "  }\n",
              "</style>\n",
              "\n",
              "  <script>\n",
              "    async function quickchart(key) {\n",
              "      const quickchartButtonEl =\n",
              "        document.querySelector('#' + key + ' button');\n",
              "      quickchartButtonEl.disabled = true;  // To prevent multiple clicks.\n",
              "      quickchartButtonEl.classList.add('colab-df-spinner');\n",
              "      try {\n",
              "        const charts = await google.colab.kernel.invokeFunction(\n",
              "            'suggestCharts', [key], {});\n",
              "      } catch (error) {\n",
              "        console.error('Error during call to suggestCharts:', error);\n",
              "      }\n",
              "      quickchartButtonEl.classList.remove('colab-df-spinner');\n",
              "      quickchartButtonEl.classList.add('colab-df-quickchart-complete');\n",
              "    }\n",
              "    (() => {\n",
              "      let quickchartButtonEl =\n",
              "        document.querySelector('#df-0f89d527-5867-46c3-a48a-6c5bd7571adb button');\n",
              "      quickchartButtonEl.style.display =\n",
              "        google.colab.kernel.accessAllowed ? 'block' : 'none';\n",
              "    })();\n",
              "  </script>\n",
              "</div>\n",
              "\n",
              "    </div>\n",
              "  </div>\n"
            ],
            "application/vnd.google.colaboratory.intrinsic+json": {
              "type": "dataframe",
              "variable_name": "df_jobs",
              "summary": "{\n  \"name\": \"df_jobs\",\n  \"rows\": 9193,\n  \"fields\": [\n    {\n      \"column\": \"projectId\",\n      \"properties\": {\n        \"dtype\": \"number\",\n        \"std\": 1973329,\n        \"min\": 31083242,\n        \"max\": 37439375,\n        \"num_unique_values\": 9193,\n        \"samples\": [\n          32849494,\n          34792704,\n          35237716\n        ],\n        \"semantic_type\": \"\",\n        \"description\": \"\"\n      }\n    },\n    {\n      \"column\": \"job_title\",\n      \"properties\": {\n        \"dtype\": \"string\",\n        \"num_unique_values\": 8572,\n        \"samples\": [\n          \"Need to Google Search Volume Index -- 4\",\n          \"financial statements \",\n          \"Analytic Solver and XLMINER Data mining\"\n        ],\n        \"semantic_type\": \"\",\n        \"description\": \"\"\n      }\n    },\n    {\n      \"column\": \"job_description\",\n      \"properties\": {\n        \"dtype\": \"string\",\n        \"num_unique_values\": 8638,\n        \"samples\": [\n          \"Hello Professional.  We are looking for Trainers in below mentioned technologies. Training would be recorded sessions. Trainers have to record themselves while teaching.  All the setup will be provided from company end . Trainers must have minimum of 2years of experience.  Technologies :  01. Numpy ( 3Hours ) 02. Data analysis with Matplotlib ( 3 Hours ) 03. Data analysis with Seaborn ( 2 Hours ) 04. Introduction to importing data in python ( 1 Hour) 05. Cleaning data in python ( 30Min ) 06. Dealing with missing data in Python & Data manipulation ( 45Min ) 07. Data manipulation in Python ( 1 Hour ) 08. Exploratory data analysis with python ( 2 Hour ) 09. Database and SQL ( 12 Hour ) 10. Writing Efficient Python Code ( 45 Min ) 11. Coding with Python ( 1 Hour ) 12. Feature Engineering for Machine Learning in Python ( 1Hour ) 13. Model Validation in Python ( 2Hours ) 14. Reinforcement Learning ( 7 Hours ) 15. Deep Learning ( 20 Hours ) 16. Recommender System ( 5 Hours ) 17. Predictive Analytics ( 5 Hours ) 18. Data Analysis using statistics ( 4 Hours ) 19. Introduction to Statistics required for Machine learning ( 8 Hours )  Remuneration will be per hour.  \",\n          \"Build a python based application to perform financial analysis of stocks \",\n          \"Major Responsibilities As a Technical Support Engineer, you will be a core team-member responsible for: Track and triage customer support tickets Interact with customers for analysis and resolution Troubleshoot problems and identify solutions Collaborate with our software engineers to help resolve problems Maintain customer satisfaction while advocating quality in every aspect Help drive the future of the product by collaborating with our engineering and product teams Play a crucial role in incident management response  Desired Background Experience in Python, Bash. Powershell Experience with querying using SQL Experience in supporting SaaS-based products Experience in working with a ticket/case management system (eg: Jira, Zendesk) Strong technical problem solving and analytical skills with the willingness to own the investigation through to the end Proficient at managing your own time and priorities and has a \\u201clet\\u2019s get it done\\u201d attitude Passionate about technology and IT security with a strong desire to work in a dynamic, ever-evolving, fast paced technical environment Adept at working remotely It would be great if you also have: Experience of working with Gmail Suite, Microsoft Exchange, Active Directory, ADFS or Office365 Knowledge of HTTP/S. SMTP, DNS, LDAP or similar protocols Bachelor\\u2019s Degree in Computer Science or a related field a plus Team player spirit! Believe in learning new things every day. \"\n        ],\n        \"semantic_type\": \"\",\n        \"description\": \"\"\n      }\n    },\n    {\n      \"column\": \"tags\",\n      \"properties\": {\n        \"dtype\": \"string\",\n        \"num_unique_values\": 7258,\n        \"samples\": [\n          \"['statistical analysis', 'data mining', 'r programming language', 'big data sales', 'statistics']\",\n          \"['python', 'machine learning (ml)', 'javascript', 'data mining']\",\n          \"['r programming language', 'statistical analysis', 'statistics', 'data mining', 'data processing']\"\n        ],\n        \"semantic_type\": \"\",\n        \"description\": \"\"\n      }\n    },\n    {\n      \"column\": \"client_state\",\n      \"properties\": {\n        \"dtype\": \"category\",\n        \"num_unique_values\": 3092,\n        \"samples\": [\n          \"Wentworth point\",\n          \"North Twenty Four Pargans\",\n          \"burnaby\"\n        ],\n        \"semantic_type\": \"\",\n        \"description\": \"\"\n      }\n    },\n    {\n      \"column\": \"client_country\",\n      \"properties\": {\n        \"dtype\": \"category\",\n        \"num_unique_values\": 177,\n        \"samples\": [\n          \"Turkey\",\n          \"Ireland\",\n          \"Luxembourg\"\n        ],\n        \"semantic_type\": \"\",\n        \"description\": \"\"\n      }\n    },\n    {\n      \"column\": \"client_average_rating\",\n      \"properties\": {\n        \"dtype\": \"number\",\n        \"std\": 2.472512288696384,\n        \"min\": 0.0,\n        \"max\": 5.0,\n        \"num_unique_values\": 29,\n        \"samples\": [\n          3.7,\n          3.8,\n          4.4\n        ],\n        \"semantic_type\": \"\",\n        \"description\": \"\"\n      }\n    },\n    {\n      \"column\": \"client_review_count\",\n      \"properties\": {\n        \"dtype\": \"number\",\n        \"std\": 87,\n        \"min\": 0,\n        \"max\": 969,\n        \"num_unique_values\": 266,\n        \"samples\": [\n          338,\n          109,\n          63\n        ],\n        \"semantic_type\": \"\",\n        \"description\": \"\"\n      }\n    },\n    {\n      \"column\": \"min_price\",\n      \"properties\": {\n        \"dtype\": \"number\",\n        \"std\": 28504.967870815577,\n        \"min\": 2.0,\n        \"max\": 1200000.0,\n        \"num_unique_values\": 94,\n        \"samples\": [\n          3500.0,\n          1250.0,\n          594.0\n        ],\n        \"semantic_type\": \"\",\n        \"description\": \"\"\n      }\n    },\n    {\n      \"column\": \"max_price\",\n      \"properties\": {\n        \"dtype\": \"number\",\n        \"std\": 53484.235647674715,\n        \"min\": 3.0,\n        \"max\": 2500000.0,\n        \"num_unique_values\": 128,\n        \"samples\": [\n          8000.0,\n          85.0,\n          10.0\n        ],\n        \"semantic_type\": \"\",\n        \"description\": \"\"\n      }\n    },\n    {\n      \"column\": \"avg_price\",\n      \"properties\": {\n        \"dtype\": \"number\",\n        \"std\": 40381.756161332625,\n        \"min\": 2.5,\n        \"max\": 1750000.0,\n        \"num_unique_values\": 229,\n        \"samples\": [\n          106.0,\n          600.0,\n          1050.0\n        ],\n        \"semantic_type\": \"\",\n        \"description\": \"\"\n      }\n    },\n    {\n      \"column\": \"currency\",\n      \"properties\": {\n        \"dtype\": \"category\",\n        \"num_unique_values\": 9,\n        \"samples\": [\n          \"CAD\",\n          \"INR\",\n          \"AUD\"\n        ],\n        \"semantic_type\": \"\",\n        \"description\": \"\"\n      }\n    },\n    {\n      \"column\": \"rate_type\",\n      \"properties\": {\n        \"dtype\": \"category\",\n        \"num_unique_values\": 2,\n        \"samples\": [\n          \"hourly\",\n          \"fixed\"\n        ],\n        \"semantic_type\": \"\",\n        \"description\": \"\"\n      }\n    }\n  ]\n}"
            }
          },
          "metadata": {},
          "execution_count": 4
        }
      ]
    },
    {
      "cell_type": "code",
      "source": [
        "#check for null values in freelancer dataset\n",
        "df_freelancer.isnull().sum()"
      ],
      "metadata": {
        "colab": {
          "base_uri": "https://localhost:8080/",
          "height": 397
        },
        "id": "jTc05lkhKKWJ",
        "outputId": "6633e7e0-85f9-46f4-d4fe-23b2683c58c2"
      },
      "execution_count": 5,
      "outputs": [
        {
          "output_type": "execute_result",
          "data": {
            "text/plain": [
              "country         4\n",
              "description     0\n",
              "hourlyRate      0\n",
              "jobSuccess     13\n",
              "locality        0\n",
              "name            0\n",
              "skills          0\n",
              "title           0\n",
              "totalHours      9\n",
              "totalJobs       0\n",
              "dtype: int64"
            ],
            "text/html": [
              "<div>\n",
              "<style scoped>\n",
              "    .dataframe tbody tr th:only-of-type {\n",
              "        vertical-align: middle;\n",
              "    }\n",
              "\n",
              "    .dataframe tbody tr th {\n",
              "        vertical-align: top;\n",
              "    }\n",
              "\n",
              "    .dataframe thead th {\n",
              "        text-align: right;\n",
              "    }\n",
              "</style>\n",
              "<table border=\"1\" class=\"dataframe\">\n",
              "  <thead>\n",
              "    <tr style=\"text-align: right;\">\n",
              "      <th></th>\n",
              "      <th>0</th>\n",
              "    </tr>\n",
              "  </thead>\n",
              "  <tbody>\n",
              "    <tr>\n",
              "      <th>country</th>\n",
              "      <td>4</td>\n",
              "    </tr>\n",
              "    <tr>\n",
              "      <th>description</th>\n",
              "      <td>0</td>\n",
              "    </tr>\n",
              "    <tr>\n",
              "      <th>hourlyRate</th>\n",
              "      <td>0</td>\n",
              "    </tr>\n",
              "    <tr>\n",
              "      <th>jobSuccess</th>\n",
              "      <td>13</td>\n",
              "    </tr>\n",
              "    <tr>\n",
              "      <th>locality</th>\n",
              "      <td>0</td>\n",
              "    </tr>\n",
              "    <tr>\n",
              "      <th>name</th>\n",
              "      <td>0</td>\n",
              "    </tr>\n",
              "    <tr>\n",
              "      <th>skills</th>\n",
              "      <td>0</td>\n",
              "    </tr>\n",
              "    <tr>\n",
              "      <th>title</th>\n",
              "      <td>0</td>\n",
              "    </tr>\n",
              "    <tr>\n",
              "      <th>totalHours</th>\n",
              "      <td>9</td>\n",
              "    </tr>\n",
              "    <tr>\n",
              "      <th>totalJobs</th>\n",
              "      <td>0</td>\n",
              "    </tr>\n",
              "  </tbody>\n",
              "</table>\n",
              "</div><br><label><b>dtype:</b> int64</label>"
            ]
          },
          "metadata": {},
          "execution_count": 5
        }
      ]
    },
    {
      "cell_type": "code",
      "source": [
        "#check for null values in jobs dataset\n",
        "df_jobs.isnull().sum()"
      ],
      "metadata": {
        "colab": {
          "base_uri": "https://localhost:8080/",
          "height": 491
        },
        "id": "qGCUDlnOMKR7",
        "outputId": "041a320e-6141-46f6-d2ab-604d5ae45844"
      },
      "execution_count": 6,
      "outputs": [
        {
          "output_type": "execute_result",
          "data": {
            "text/plain": [
              "projectId                  0\n",
              "job_title                  0\n",
              "job_description            0\n",
              "tags                       0\n",
              "client_state             365\n",
              "client_country             1\n",
              "client_average_rating      0\n",
              "client_review_count        0\n",
              "min_price                  0\n",
              "max_price                  0\n",
              "avg_price                  0\n",
              "currency                   0\n",
              "rate_type                  0\n",
              "dtype: int64"
            ],
            "text/html": [
              "<div>\n",
              "<style scoped>\n",
              "    .dataframe tbody tr th:only-of-type {\n",
              "        vertical-align: middle;\n",
              "    }\n",
              "\n",
              "    .dataframe tbody tr th {\n",
              "        vertical-align: top;\n",
              "    }\n",
              "\n",
              "    .dataframe thead th {\n",
              "        text-align: right;\n",
              "    }\n",
              "</style>\n",
              "<table border=\"1\" class=\"dataframe\">\n",
              "  <thead>\n",
              "    <tr style=\"text-align: right;\">\n",
              "      <th></th>\n",
              "      <th>0</th>\n",
              "    </tr>\n",
              "  </thead>\n",
              "  <tbody>\n",
              "    <tr>\n",
              "      <th>projectId</th>\n",
              "      <td>0</td>\n",
              "    </tr>\n",
              "    <tr>\n",
              "      <th>job_title</th>\n",
              "      <td>0</td>\n",
              "    </tr>\n",
              "    <tr>\n",
              "      <th>job_description</th>\n",
              "      <td>0</td>\n",
              "    </tr>\n",
              "    <tr>\n",
              "      <th>tags</th>\n",
              "      <td>0</td>\n",
              "    </tr>\n",
              "    <tr>\n",
              "      <th>client_state</th>\n",
              "      <td>365</td>\n",
              "    </tr>\n",
              "    <tr>\n",
              "      <th>client_country</th>\n",
              "      <td>1</td>\n",
              "    </tr>\n",
              "    <tr>\n",
              "      <th>client_average_rating</th>\n",
              "      <td>0</td>\n",
              "    </tr>\n",
              "    <tr>\n",
              "      <th>client_review_count</th>\n",
              "      <td>0</td>\n",
              "    </tr>\n",
              "    <tr>\n",
              "      <th>min_price</th>\n",
              "      <td>0</td>\n",
              "    </tr>\n",
              "    <tr>\n",
              "      <th>max_price</th>\n",
              "      <td>0</td>\n",
              "    </tr>\n",
              "    <tr>\n",
              "      <th>avg_price</th>\n",
              "      <td>0</td>\n",
              "    </tr>\n",
              "    <tr>\n",
              "      <th>currency</th>\n",
              "      <td>0</td>\n",
              "    </tr>\n",
              "    <tr>\n",
              "      <th>rate_type</th>\n",
              "      <td>0</td>\n",
              "    </tr>\n",
              "  </tbody>\n",
              "</table>\n",
              "</div><br><label><b>dtype:</b> int64</label>"
            ]
          },
          "metadata": {},
          "execution_count": 6
        }
      ]
    },
    {
      "cell_type": "code",
      "source": [
        "#removing % in jobSuccess\n",
        "df_freelancer['jobSuccess'] = df_freelancer['jobSuccess'].str.replace('%' , '')\n",
        "#changes to numeric term\n",
        "df_freelancer['jobSuccess'] = pd.to_numeric(df_freelancer['jobSuccess'], errors='coerce')"
      ],
      "metadata": {
        "id": "YZAxWsT47rrd"
      },
      "execution_count": 7,
      "outputs": []
    },
    {
      "cell_type": "code",
      "source": [
        "#filling the null values int the freelancer dataset\n",
        "df_freelancer['country'].fillna(df_freelancer['country'].mode()[0] , inplace = True )\n",
        "df_freelancer['jobSuccess'].fillna(df_freelancer['jobSuccess'].mean() , inplace = True)\n",
        "df_freelancer['totalHours'].fillna(df_freelancer['totalHours'].mean() , inplace = True )"
      ],
      "metadata": {
        "colab": {
          "base_uri": "https://localhost:8080/"
        },
        "id": "X69EGJFs6MSu",
        "outputId": "0f447b86-60eb-4af3-b1a9-5ffaa88e8f8f"
      },
      "execution_count": 8,
      "outputs": [
        {
          "output_type": "stream",
          "name": "stderr",
          "text": [
            "<ipython-input-8-5e0b24329ec9>:2: FutureWarning: A value is trying to be set on a copy of a DataFrame or Series through chained assignment using an inplace method.\n",
            "The behavior will change in pandas 3.0. This inplace method will never work because the intermediate object on which we are setting values always behaves as a copy.\n",
            "\n",
            "For example, when doing 'df[col].method(value, inplace=True)', try using 'df.method({col: value}, inplace=True)' or df[col] = df[col].method(value) instead, to perform the operation inplace on the original object.\n",
            "\n",
            "\n",
            "  df_freelancer['country'].fillna(df_freelancer['country'].mode()[0] , inplace = True )\n",
            "<ipython-input-8-5e0b24329ec9>:3: FutureWarning: A value is trying to be set on a copy of a DataFrame or Series through chained assignment using an inplace method.\n",
            "The behavior will change in pandas 3.0. This inplace method will never work because the intermediate object on which we are setting values always behaves as a copy.\n",
            "\n",
            "For example, when doing 'df[col].method(value, inplace=True)', try using 'df.method({col: value}, inplace=True)' or df[col] = df[col].method(value) instead, to perform the operation inplace on the original object.\n",
            "\n",
            "\n",
            "  df_freelancer['jobSuccess'].fillna(df_freelancer['jobSuccess'].mean() , inplace = True)\n",
            "<ipython-input-8-5e0b24329ec9>:4: FutureWarning: A value is trying to be set on a copy of a DataFrame or Series through chained assignment using an inplace method.\n",
            "The behavior will change in pandas 3.0. This inplace method will never work because the intermediate object on which we are setting values always behaves as a copy.\n",
            "\n",
            "For example, when doing 'df[col].method(value, inplace=True)', try using 'df.method({col: value}, inplace=True)' or df[col] = df[col].method(value) instead, to perform the operation inplace on the original object.\n",
            "\n",
            "\n",
            "  df_freelancer['totalHours'].fillna(df_freelancer['totalHours'].mean() , inplace = True )\n"
          ]
        }
      ]
    },
    {
      "cell_type": "code",
      "source": [
        "#filling the null values in the job dataset\n",
        "df_jobs['client_country'].fillna(df_jobs['client_country'].mode()[0] , inplace = True)\n",
        "df_jobs['client_state'].fillna(df_jobs['client_state'].mode()[0] , inplace = True)"
      ],
      "metadata": {
        "colab": {
          "base_uri": "https://localhost:8080/"
        },
        "id": "1-OHV4SJS9uM",
        "outputId": "e8f6cae0-5af2-4868-9f83-8e02b01dfd37"
      },
      "execution_count": 9,
      "outputs": [
        {
          "output_type": "stream",
          "name": "stderr",
          "text": [
            "<ipython-input-9-5c3e6986025c>:2: FutureWarning: A value is trying to be set on a copy of a DataFrame or Series through chained assignment using an inplace method.\n",
            "The behavior will change in pandas 3.0. This inplace method will never work because the intermediate object on which we are setting values always behaves as a copy.\n",
            "\n",
            "For example, when doing 'df[col].method(value, inplace=True)', try using 'df.method({col: value}, inplace=True)' or df[col] = df[col].method(value) instead, to perform the operation inplace on the original object.\n",
            "\n",
            "\n",
            "  df_jobs['client_country'].fillna(df_jobs['client_country'].mode()[0] , inplace = True)\n",
            "<ipython-input-9-5c3e6986025c>:3: FutureWarning: A value is trying to be set on a copy of a DataFrame or Series through chained assignment using an inplace method.\n",
            "The behavior will change in pandas 3.0. This inplace method will never work because the intermediate object on which we are setting values always behaves as a copy.\n",
            "\n",
            "For example, when doing 'df[col].method(value, inplace=True)', try using 'df.method({col: value}, inplace=True)' or df[col] = df[col].method(value) instead, to perform the operation inplace on the original object.\n",
            "\n",
            "\n",
            "  df_jobs['client_state'].fillna(df_jobs['client_state'].mode()[0] , inplace = True)\n"
          ]
        }
      ]
    },
    {
      "cell_type": "code",
      "source": [
        "df_freelancer['skills'] = df_freelancer['skills'].str.split('|')\n",
        "df_freelancer['title'] = df_freelancer['title'].str.split('|')"
      ],
      "metadata": {
        "id": "5HDCHcO4-vCV"
      },
      "execution_count": 10,
      "outputs": []
    },
    {
      "cell_type": "code",
      "source": [
        "#there is emojies in the description , emoji module we can remove emojies\n",
        "!pip install emoji"
      ],
      "metadata": {
        "colab": {
          "base_uri": "https://localhost:8080/"
        },
        "id": "MfGchOrtS2KJ",
        "outputId": "251bec3d-4b3a-41bb-f3e4-b89637912d93"
      },
      "execution_count": 11,
      "outputs": [
        {
          "output_type": "stream",
          "name": "stdout",
          "text": [
            "Requirement already satisfied: emoji in /usr/local/lib/python3.10/dist-packages (2.14.0)\n"
          ]
        }
      ]
    },
    {
      "cell_type": "code",
      "source": [
        "import emoji\n",
        "\n",
        "# Function to replace emojis\n",
        "def replace_emojis(text, replacement=\"\"):\n",
        "    return emoji.replace_emoji(text, replacement)\n",
        "\n",
        "# Apply to a dataframe column\n",
        "df_freelancer['description'] = df_freelancer['description'].apply(lambda x: replace_emojis(x, replacement=\"\"))\n"
      ],
      "metadata": {
        "id": "JaIKTPWZPcZG"
      },
      "execution_count": 12,
      "outputs": []
    },
    {
      "cell_type": "code",
      "source": [
        "#checking the currency\n",
        "df_jobs['currency'].unique()"
      ],
      "metadata": {
        "colab": {
          "base_uri": "https://localhost:8080/"
        },
        "id": "F6B4eVZso910",
        "outputId": "111c9502-85ad-440e-b6d2-55ec7944550f"
      },
      "execution_count": 13,
      "outputs": [
        {
          "output_type": "execute_result",
          "data": {
            "text/plain": [
              "array(['EUR', 'INR', 'USD', 'SGD', 'GBP', 'AUD', 'HKD', 'CAD', 'NZD'],\n",
              "      dtype=object)"
            ]
          },
          "metadata": {},
          "execution_count": 13
        }
      ]
    },
    {
      "cell_type": "code",
      "source": [
        "#converting all currency present in the dataset to INR\n",
        "def change_curr(currs, amt):\n",
        "    if currs == \"EUR\":\n",
        "        return amt * 89.33\n",
        "    elif currs == \"USD\":\n",
        "        return amt * 84.50\n",
        "    elif currs == \"SGD\":\n",
        "        return amt * 63.08\n",
        "    elif currs == \"GBP\":\n",
        "        return amt * 107.44\n",
        "    elif currs == \"AUD\":\n",
        "        return amt * 55.05\n",
        "    elif currs == \"HKD\":\n",
        "        return amt * 10.86\n",
        "    elif currs == \"CAD\":\n",
        "        return amt * 60.42\n",
        "    elif currs == \"NZD\":\n",
        "        return amt * 49.97\n",
        "    else:\n",
        "        return amt\n",
        "\n",
        "\n"
      ],
      "metadata": {
        "id": "_zGZ307YaAbA"
      },
      "execution_count": 14,
      "outputs": []
    },
    {
      "cell_type": "code",
      "source": [
        "#changing currency to INR in min_price\n",
        "min = []\n",
        "for i in range(len(df_jobs['currency'])):\n",
        "  min.append(change_curr(df_jobs['currency'][i] , df_jobs['min_price'][i]))\n",
        "\n",
        "#changing currency to INR in max_price\n",
        "max = []\n",
        "for i in range(len(df_jobs['currency'])):\n",
        "  max.append(change_curr(df_jobs['currency'][i] , df_jobs['max_price'][i]))\n",
        "\n",
        "#changing currency to INR in avg_price\n",
        "avg = []\n",
        "for i in range(len(df_jobs['currency'])):\n",
        "  avg.append(change_curr(df_jobs['currency'][i] , df_jobs['avg_price'][i]))\n"
      ],
      "metadata": {
        "id": "urjkD1XEs6pH"
      },
      "execution_count": 15,
      "outputs": []
    },
    {
      "cell_type": "code",
      "source": [
        "df_jobs['min_inr'] = pd.DataFrame(data = min)\n",
        "\n",
        "df_jobs['max_inr'] = pd.DataFrame(data = max)\n",
        "\n",
        "df_jobs['avg_inr'] = pd.DataFrame(data = avg)"
      ],
      "metadata": {
        "id": "RzmqcTZ-UOVf"
      },
      "execution_count": 16,
      "outputs": []
    },
    {
      "cell_type": "code",
      "source": [
        "#droping the columns(avg_price , min_price , max_price)\n",
        "df_jobs.drop(['avg_price' , 'max_price' , 'min_price'] , axis = 1, inplace = True)"
      ],
      "metadata": {
        "id": "CX5a9sFiTR_x"
      },
      "execution_count": 17,
      "outputs": []
    },
    {
      "cell_type": "code",
      "source": [
        "#droping the currency column\n",
        "df_jobs.drop(['currency'] , axis = 1 , inplace = True)"
      ],
      "metadata": {
        "id": "WUkNZg9MZ76z"
      },
      "execution_count": 18,
      "outputs": []
    },
    {
      "cell_type": "code",
      "source": [
        "#adding the experience column with the help of client_rating column in th job dataset\n",
        "def level(rating):\n",
        "  if rating >=4.0 and rating <=5.0:\n",
        "    return \"expert\"\n",
        "  elif rating >=2.5 and rating <4.0:\n",
        "    return \"intermediate\"\n",
        "  else:\n",
        "    return \"entry\"\n",
        "\n",
        "#adding the experience column with the help of jobSuccess in the freelancer dataset\n",
        "def free_level(success):\n",
        "  if success >= 75.0 and success<=100.0:\n",
        "    return \"expert\"\n",
        "  elif success>=50.0 and success<75.0:\n",
        "    return \"intermediate\"\n",
        "  else:\n",
        "    return \"entry\""
      ],
      "metadata": {
        "id": "iHBjQK9XJ8Fi"
      },
      "execution_count": 19,
      "outputs": []
    },
    {
      "cell_type": "code",
      "source": [
        "#creating the columns\n",
        "df_jobs['experience'] = df_jobs['client_average_rating'].apply(lambda x : level(x))\n",
        "df_freelancer['experience'] = df_freelancer['jobSuccess'].apply(lambda x : free_level(x))"
      ],
      "metadata": {
        "id": "8JDmv7LcLg9X"
      },
      "execution_count": 20,
      "outputs": []
    },
    {
      "cell_type": "code",
      "source": [
        "#adding a column of password in both dataset\n",
        "df_jobs['pass'] = np.random.randint(10000000, 99999999, size=len(df_jobs))\n",
        "df_freelancer['pass'] = np.random.randint(10000000, 99999999, size=len(df_freelancer))"
      ],
      "metadata": {
        "id": "klmB-THhMVj2"
      },
      "execution_count": 21,
      "outputs": []
    },
    {
      "cell_type": "code",
      "source": [
        "#adding a column of rating in the freelancer dataset\n",
        "df_freelancer['rating'] = np.random.randint(1, 6, size=len(df_freelancer))"
      ],
      "metadata": {
        "id": "NT60CISiNoS7"
      },
      "execution_count": 22,
      "outputs": []
    },
    {
      "cell_type": "code",
      "source": [
        "#adding a column of totalHours in the jobs dataset\n",
        "df_jobs['totalHours'] = np.random.randint(1 , 600 , size = len(df_jobs))\n",
        "\n",
        "#adding the column of jobSuccess in the jobs dataset\n",
        "df_jobs['jobSuccess'] = np.random.randint(1 , 101 , size = len(df_jobs))"
      ],
      "metadata": {
        "id": "IHiV1WcENMzK"
      },
      "execution_count": 23,
      "outputs": []
    },
    {
      "cell_type": "code",
      "source": [
        "#creating update_jobs dataframe with imp columns of df_jobs dataset\n",
        "update_jobs = df_jobs.drop([ 'client_state'  ,\t'client_review_count' , 'rate_type' ,\t'min_inr' , 'avg_inr' ] , axis = 1)"
      ],
      "metadata": {
        "id": "2xwrPDiPH9fK"
      },
      "execution_count": 24,
      "outputs": []
    },
    {
      "cell_type": "code",
      "source": [
        "#changing the columns names\n",
        "update_jobs.rename(columns={'client_average_rating': 'rating' ,\n",
        "                            'client_country' : 'country' ,\n",
        "                            'projectId' : 'name' ,\n",
        "                            'job_title' : 'title',\n",
        "                            'job_description' : 'description',\n",
        "                            'max_inr' : 'hourlyRate',\n",
        "                            'tags' : 'skills'}  , inplace = True)"
      ],
      "metadata": {
        "id": "d2CaylTnQBG2"
      },
      "execution_count": 25,
      "outputs": []
    },
    {
      "cell_type": "code",
      "source": [
        "#save the jobs dataset\n",
        "pickle.dump(update_jobs , open('update_jobs.pkl' , 'wb'))"
      ],
      "metadata": {
        "id": "qi81I7SsIpEe"
      },
      "execution_count": 26,
      "outputs": []
    },
    {
      "cell_type": "code",
      "source": [
        "#creating update_free dataframe with imp columns of df_free dataset\n",
        "update_free = df_freelancer.drop(['locality'  ,'totalJobs' ] , axis = 1)\n",
        "pickle.dump(update_free , open('update_free.pkl' , 'wb'))"
      ],
      "metadata": {
        "id": "CppjULVUIvZc"
      },
      "execution_count": 27,
      "outputs": []
    },
    {
      "cell_type": "code",
      "source": [
        "#removing space between them e.g (video editing , flask) -> (videoediting , flask)\n",
        "def collapse(L):\n",
        "    L1 = []\n",
        "    for i in L:\n",
        "        L1.append(i.replace(\" \",\"\"))\n",
        "    return L1\n",
        "\n"
      ],
      "metadata": {
        "id": "l5M20U4-pYbl"
      },
      "execution_count": 28,
      "outputs": []
    },
    {
      "cell_type": "code",
      "source": [
        "#apply function to skills and title columns in the freelancer dataset\n",
        "df_freelancer['skills'] = df_freelancer['skills'].apply(collapse)\n",
        "df_freelancer['title'] = df_freelancer['title'].apply(collapse)"
      ],
      "metadata": {
        "id": "6ptv9NrMsEZR"
      },
      "execution_count": 29,
      "outputs": []
    },
    {
      "cell_type": "code",
      "source": [
        "import ast\n",
        "\n",
        "# Step 1: Convert string representation of lists to actual lists\n",
        "df_jobs['tags'] = df_jobs['tags'].apply(lambda x: ast.literal_eval(x) if isinstance(x, str) else x)\n",
        "\n",
        "# Step 2: Clean the list elements (strip unwanted characters like quotes)\n",
        "df_jobs['tags'] = df_jobs['tags'].apply(lambda x: [item.strip(\"'\") for item in x if isinstance(item, str)])\n",
        "\n",
        "#apply function to tags column\n",
        "df_jobs['tags'] = df_jobs['tags'].apply(collapse)\n"
      ],
      "metadata": {
        "id": "oFs6dkSY-imx"
      },
      "execution_count": 30,
      "outputs": []
    },
    {
      "cell_type": "code",
      "source": [
        "#changing int terms to str for adding them\n",
        "df_jobs['max_inr'] = df_jobs['max_inr'].astype('str')\n",
        "df_freelancer['hourlyRate'] = df_freelancer['hourlyRate'].astype('str')\n",
        "df_jobs['totalHours'] = df_jobs['totalHours'].astype('str')\n",
        "df_freelancer['totalHours'] = df_freelancer['totalHours'].astype('str')\n",
        "df_jobs['client_average_rating'] = df_jobs['client_average_rating'].astype('str')\n",
        "df_freelancer['jobSuccess'] = df_freelancer['jobSuccess'].astype('str')\n",
        "df_freelancer['rating'] = df_freelancer['rating'].astype('str')\n",
        "df_jobs['jobSuccess'] = df_jobs['jobSuccess'].astype('str')\n"
      ],
      "metadata": {
        "id": "iGRFmRfa1o6E"
      },
      "execution_count": 31,
      "outputs": []
    },
    {
      "cell_type": "code",
      "source": [
        "#spliting the text into words for further adding with other columns\n",
        "df_jobs['job_title'] = df_jobs['job_title'].apply(lambda x:x.split())\n",
        "df_jobs['job_description'] = df_jobs['job_description'].apply(lambda x:x.split())\n",
        "df_jobs['client_country'] = df_jobs['client_country'].apply(lambda x:x.split())\n",
        "df_jobs['max_inr'] = df_jobs['max_inr'].apply(lambda x:x.split())\n",
        "df_jobs['experience'] = df_jobs['experience'].apply(lambda x:x.split())\n",
        "df_jobs['totalHours'] = df_jobs['totalHours'].apply(lambda x:x.split())\n",
        "df_jobs['client_average_rating'] = df_jobs['client_average_rating'].apply(lambda x:x.split())\n",
        "df_jobs['jobSuccess'] = df_jobs['jobSuccess'].apply(lambda x:x.split())"
      ],
      "metadata": {
        "id": "X4NJL-JQzVzl"
      },
      "execution_count": 32,
      "outputs": []
    },
    {
      "cell_type": "code",
      "source": [
        "#spliting the text into words for further adding with other columns\n",
        "df_freelancer['description'] = df_freelancer['description'].apply(lambda x:x.split())\n",
        "df_freelancer['country'] = df_freelancer['country'].apply(lambda x:x.split())\n",
        "df_freelancer['hourlyRate'] = df_freelancer['hourlyRate'].apply(lambda x:x.split())\n",
        "df_freelancer['experience'] = df_freelancer['experience'].apply(lambda x:x.split())\n",
        "df_freelancer['totalHours'] = df_freelancer['totalHours'].apply(lambda x:x.split())\n",
        "df_freelancer['jobSuccess'] = df_freelancer['jobSuccess'].apply(lambda x:x.split())\n",
        "df_freelancer['rating'] = df_freelancer['rating'].apply(lambda x:x.split())"
      ],
      "metadata": {
        "id": "EHVG0ZLf0ELb"
      },
      "execution_count": 33,
      "outputs": []
    },
    {
      "cell_type": "code",
      "source": [
        "#adding columns and store in tags_1 in the jobs dataset\n",
        "df_jobs['tags_1'] =   df_jobs['tags'] +df_jobs['job_title']+ df_jobs['client_country'] +  df_jobs['totalHours'] + df_jobs['max_inr'] + df_jobs['experience']+ df_jobs['client_average_rating'] + df_jobs['jobSuccess']"
      ],
      "metadata": {
        "id": "RSZqUUS5vssn"
      },
      "execution_count": 34,
      "outputs": []
    },
    {
      "cell_type": "code",
      "source": [
        "#adding columns and store in the tags_2 in the freelancer dataset\n",
        "df_freelancer['tags_2'] =   df_freelancer['skills'] +df_freelancer['title']+ df_freelancer['country'] +  df_freelancer['totalHours'] + df_freelancer['hourlyRate'] + df_freelancer['experience']+ df_freelancer['rating'] + df_freelancer['jobSuccess']\n"
      ],
      "metadata": {
        "id": "D44RVh1i3rnv"
      },
      "execution_count": 35,
      "outputs": []
    },
    {
      "cell_type": "code",
      "source": [
        "df_freelancer['tags_2'] = df_freelancer['tags_2'].apply(lambda x: \" \".join(x))\n",
        "df_jobs['tags_1'] = df_jobs['tags_1'].apply(lambda x: \" \".join(x))"
      ],
      "metadata": {
        "id": "JKACZ9tECA4_"
      },
      "execution_count": 36,
      "outputs": []
    },
    {
      "cell_type": "code",
      "source": [
        "#creating new datset\n",
        "new_free = df_freelancer.drop(['country',\t'description',\t'hourlyRate' ,\t'jobSuccess'\t, 'locality' , 'skills' ,\t'title' ,\t'totalHours'\t, 'totalJobs' , 'experience' , 'pass' , 'rating'] , axis = 1)\n",
        "new_jobs = df_jobs.drop(['job_title' ,\t'job_description',\t'tags' ,\t'client_state' , \t'client_country' ,\t'client_average_rating' ,\t'client_review_count' , 'experience',\t'rate_type' ,\t'min_inr' ,\t'max_inr' ,\t'avg_inr'\t , 'pass' , 'totalHours' , 'jobSuccess'] , axis = 1)"
      ],
      "metadata": {
        "id": "gRUqYFYW78Oa"
      },
      "execution_count": 37,
      "outputs": []
    },
    {
      "cell_type": "code",
      "source": [
        "print(new_jobs.shape)\n",
        "print(new_free.shape)"
      ],
      "metadata": {
        "colab": {
          "base_uri": "https://localhost:8080/"
        },
        "id": "HZzdekmXcULm",
        "outputId": "22758e5f-a5ef-439a-b395-ddc0c8de410e"
      },
      "execution_count": 38,
      "outputs": [
        {
          "output_type": "stream",
          "name": "stdout",
          "text": [
            "(9193, 2)\n",
            "(132, 2)\n"
          ]
        }
      ]
    },
    {
      "cell_type": "code",
      "source": [
        "#lowering the tags\n",
        "new_jobs['tags_1'] = new_jobs['tags_1'].apply(lambda x : x.lower())\n",
        "\n",
        "new_free['tags_2'] = new_free['tags_2'].apply(lambda x: x.lower() )"
      ],
      "metadata": {
        "id": "b1uxDFqP_Tkr"
      },
      "execution_count": 39,
      "outputs": []
    },
    {
      "cell_type": "code",
      "source": [
        "import string\n",
        "# Remove punctuation using str.translate() and string.punctuation\n",
        "new_jobs['tags_1'] =  new_jobs['tags_1'].apply(lambda x : x.translate(str.maketrans(\"\", \"\", string.punctuation)))\n",
        "new_free['tags_2'] =  new_free['tags_2'].apply(lambda x : x.translate(str.maketrans(\"\", \"\", string.punctuation)))"
      ],
      "metadata": {
        "id": "-6iWvvPqCmGJ"
      },
      "execution_count": 40,
      "outputs": []
    },
    {
      "cell_type": "code",
      "source": [
        "#saving these two datasets\n",
        "import pickle\n",
        "pickle.dump(new_jobs , open('jobs_2.pkl' , 'wb'))\n",
        "pickle.dump(new_free , open('freelancer_2.pkl' , 'wb'))"
      ],
      "metadata": {
        "id": "7gvsqme7uxP2"
      },
      "execution_count": 41,
      "outputs": []
    }
  ]
}