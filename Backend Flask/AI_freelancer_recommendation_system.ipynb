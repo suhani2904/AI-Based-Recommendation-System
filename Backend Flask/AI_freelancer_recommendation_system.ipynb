{
 "cells": [
  {
   "cell_type": "code",
   "execution_count": 1,
   "metadata": {
    "id": "Yu5yIHrlwNBa"
   },
   "outputs": [],
   "source": [
    "#importing imp libraries\n",
    "import pandas as pd\n",
    "import numpy as np\n",
    "import pickle\n"
   ]
  },
  {
   "cell_type": "code",
   "execution_count": 2,
   "metadata": {
    "id": "Yh98lUb5waHU"
   },
   "outputs": [],
   "source": [
    "df_freelancer = pd.read_csv('Datasets/upwork_data_scientists.csv')\n",
    "df_jobs = pd.read_csv('Datasets/freelancer_job_postings.csv')"
   ]
  },
  {
   "cell_type": "code",
   "execution_count": 3,
   "metadata": {
    "colab": {
     "base_uri": "https://localhost:8080/",
     "height": 501
    },
    "id": "33GufV8M9Z7c",
    "outputId": "3bc79cc5-a69e-4c50-d059-f15afcb6e477"
   },
   "outputs": [
    {
     "data": {
      "text/html": [
       "<div>\n",
       "<style scoped>\n",
       "    .dataframe tbody tr th:only-of-type {\n",
       "        vertical-align: middle;\n",
       "    }\n",
       "\n",
       "    .dataframe tbody tr th {\n",
       "        vertical-align: top;\n",
       "    }\n",
       "\n",
       "    .dataframe thead th {\n",
       "        text-align: right;\n",
       "    }\n",
       "</style>\n",
       "<table border=\"1\" class=\"dataframe\">\n",
       "  <thead>\n",
       "    <tr style=\"text-align: right;\">\n",
       "      <th></th>\n",
       "      <th>country</th>\n",
       "      <th>description</th>\n",
       "      <th>hourlyRate</th>\n",
       "      <th>jobSuccess</th>\n",
       "      <th>locality</th>\n",
       "      <th>name</th>\n",
       "      <th>skills</th>\n",
       "      <th>title</th>\n",
       "      <th>totalHours</th>\n",
       "      <th>totalJobs</th>\n",
       "    </tr>\n",
       "  </thead>\n",
       "  <tbody>\n",
       "    <tr>\n",
       "      <th>0</th>\n",
       "      <td>Egypt</td>\n",
       "      <td>let the work of data for me 📊 and get the busi...</td>\n",
       "      <td>25.0</td>\n",
       "      <td>97%</td>\n",
       "      <td>Giza</td>\n",
       "      <td>Abeer K.</td>\n",
       "      <td>Python|Machine Learning|Scrapy|Data Science|SQ...</td>\n",
       "      <td>Data Scientist | Web Scraping Engineer</td>\n",
       "      <td>405.0</td>\n",
       "      <td>69</td>\n",
       "    </tr>\n",
       "    <tr>\n",
       "      <th>1</th>\n",
       "      <td>Serbia</td>\n",
       "      <td>I am master environmental protection analyst a...</td>\n",
       "      <td>15.0</td>\n",
       "      <td>97%</td>\n",
       "      <td>Belgrade</td>\n",
       "      <td>Nikola M.</td>\n",
       "      <td>Data Entry|Google Docs|Online Research|Lead Ge...</td>\n",
       "      <td>Researcher</td>\n",
       "      <td>354.0</td>\n",
       "      <td>68</td>\n",
       "    </tr>\n",
       "    <tr>\n",
       "      <th>2</th>\n",
       "      <td>Philippines</td>\n",
       "      <td>Specializes in automated Excel solutions that ...</td>\n",
       "      <td>60.0</td>\n",
       "      <td>100%</td>\n",
       "      <td>Manila</td>\n",
       "      <td>Ramil, Jr. A.</td>\n",
       "      <td>Microsoft Excel|Excel Formula|Excel Macros|Vis...</td>\n",
       "      <td>Excel | VBA | Macros | Google Sheets Expert</td>\n",
       "      <td>15.0</td>\n",
       "      <td>351</td>\n",
       "    </tr>\n",
       "    <tr>\n",
       "      <th>3</th>\n",
       "      <td>United States</td>\n",
       "      <td>Data Science and Machine Learning Expert for H...</td>\n",
       "      <td>500.0</td>\n",
       "      <td>100%</td>\n",
       "      <td>Wyckoff</td>\n",
       "      <td>Jason K.</td>\n",
       "      <td>Deep Learning|Python|Data Science|Machine Lear...</td>\n",
       "      <td>Data Science &amp; AI Expert- Senior Machine Learn...</td>\n",
       "      <td>434.0</td>\n",
       "      <td>80</td>\n",
       "    </tr>\n",
       "    <tr>\n",
       "      <th>4</th>\n",
       "      <td>Pakistan</td>\n",
       "      <td>🔴🟡🔴🟡🔴🟡🔴🟡🔴🟡🟡🟡🟡🟡🟡🟡\" I can do anything with Pytho...</td>\n",
       "      <td>25.0</td>\n",
       "      <td>82%</td>\n",
       "      <td>Karachi</td>\n",
       "      <td>Muhammad Noman B.</td>\n",
       "      <td>Data Science|Machine Learning|pandas|Microsoft...</td>\n",
       "      <td>Data Science | Python Projects | Machine Learn...</td>\n",
       "      <td>4.0</td>\n",
       "      <td>11</td>\n",
       "    </tr>\n",
       "  </tbody>\n",
       "</table>\n",
       "</div>"
      ],
      "text/plain": [
       "         country                                        description  \\\n",
       "0          Egypt  let the work of data for me 📊 and get the busi...   \n",
       "1         Serbia  I am master environmental protection analyst a...   \n",
       "2    Philippines  Specializes in automated Excel solutions that ...   \n",
       "3  United States  Data Science and Machine Learning Expert for H...   \n",
       "4       Pakistan  🔴🟡🔴🟡🔴🟡🔴🟡🔴🟡🟡🟡🟡🟡🟡🟡\" I can do anything with Pytho...   \n",
       "\n",
       "   hourlyRate jobSuccess  locality               name  \\\n",
       "0        25.0        97%      Giza           Abeer K.   \n",
       "1        15.0        97%  Belgrade          Nikola M.   \n",
       "2        60.0       100%    Manila      Ramil, Jr. A.   \n",
       "3       500.0       100%   Wyckoff           Jason K.   \n",
       "4        25.0        82%   Karachi  Muhammad Noman B.   \n",
       "\n",
       "                                              skills  \\\n",
       "0  Python|Machine Learning|Scrapy|Data Science|SQ...   \n",
       "1  Data Entry|Google Docs|Online Research|Lead Ge...   \n",
       "2  Microsoft Excel|Excel Formula|Excel Macros|Vis...   \n",
       "3  Deep Learning|Python|Data Science|Machine Lear...   \n",
       "4  Data Science|Machine Learning|pandas|Microsoft...   \n",
       "\n",
       "                                               title  totalHours  totalJobs  \n",
       "0             Data Scientist | Web Scraping Engineer       405.0         69  \n",
       "1                                         Researcher       354.0         68  \n",
       "2        Excel | VBA | Macros | Google Sheets Expert        15.0        351  \n",
       "3  Data Science & AI Expert- Senior Machine Learn...       434.0         80  \n",
       "4  Data Science | Python Projects | Machine Learn...         4.0         11  "
      ]
     },
     "execution_count": 3,
     "metadata": {},
     "output_type": "execute_result"
    }
   ],
   "source": [
    "df_freelancer.head()"
   ]
  },
  {
   "cell_type": "code",
   "execution_count": 4,
   "metadata": {
    "colab": {
     "base_uri": "https://localhost:8080/",
     "height": 590
    },
    "id": "PUj8jL0g9cm1",
    "outputId": "eaa3064b-256f-4760-d9f6-4e58f6a35cd4"
   },
   "outputs": [
    {
     "data": {
      "text/html": [
       "<div>\n",
       "<style scoped>\n",
       "    .dataframe tbody tr th:only-of-type {\n",
       "        vertical-align: middle;\n",
       "    }\n",
       "\n",
       "    .dataframe tbody tr th {\n",
       "        vertical-align: top;\n",
       "    }\n",
       "\n",
       "    .dataframe thead th {\n",
       "        text-align: right;\n",
       "    }\n",
       "</style>\n",
       "<table border=\"1\" class=\"dataframe\">\n",
       "  <thead>\n",
       "    <tr style=\"text-align: right;\">\n",
       "      <th></th>\n",
       "      <th>projectId</th>\n",
       "      <th>job_title</th>\n",
       "      <th>job_description</th>\n",
       "      <th>tags</th>\n",
       "      <th>client_state</th>\n",
       "      <th>client_country</th>\n",
       "      <th>client_average_rating</th>\n",
       "      <th>client_review_count</th>\n",
       "      <th>min_price</th>\n",
       "      <th>max_price</th>\n",
       "      <th>avg_price</th>\n",
       "      <th>currency</th>\n",
       "      <th>rate_type</th>\n",
       "    </tr>\n",
       "  </thead>\n",
       "  <tbody>\n",
       "    <tr>\n",
       "      <th>0</th>\n",
       "      <td>37426471</td>\n",
       "      <td>development and implementation of a federated ...</td>\n",
       "      <td>please bid only if you are ready to do the wor...</td>\n",
       "      <td>['algorithm', 'java', 'python', 'machine learn...</td>\n",
       "      <td>Heilbronn</td>\n",
       "      <td>Germany</td>\n",
       "      <td>5.0</td>\n",
       "      <td>17</td>\n",
       "      <td>8.0</td>\n",
       "      <td>30.0</td>\n",
       "      <td>19.0</td>\n",
       "      <td>EUR</td>\n",
       "      <td>fixed</td>\n",
       "    </tr>\n",
       "    <tr>\n",
       "      <th>1</th>\n",
       "      <td>37421546</td>\n",
       "      <td>Data Entry  -- 2</td>\n",
       "      <td>Project Title: Data Entry - Data Analysis in E...</td>\n",
       "      <td>['excel', 'statistical analysis', 'statistics'...</td>\n",
       "      <td>Nagpur</td>\n",
       "      <td>India</td>\n",
       "      <td>0.0</td>\n",
       "      <td>0</td>\n",
       "      <td>750.0</td>\n",
       "      <td>1250.0</td>\n",
       "      <td>1000.0</td>\n",
       "      <td>INR</td>\n",
       "      <td>hourly</td>\n",
       "    </tr>\n",
       "    <tr>\n",
       "      <th>2</th>\n",
       "      <td>37400492</td>\n",
       "      <td>Data Scrap</td>\n",
       "      <td>I am looking for a freelancer who can help me ...</td>\n",
       "      <td>['web scraping', 'data mining', 'data entry', ...</td>\n",
       "      <td>Eaubonne</td>\n",
       "      <td>France</td>\n",
       "      <td>5.0</td>\n",
       "      <td>1</td>\n",
       "      <td>30.0</td>\n",
       "      <td>250.0</td>\n",
       "      <td>140.0</td>\n",
       "      <td>EUR</td>\n",
       "      <td>fixed</td>\n",
       "    </tr>\n",
       "    <tr>\n",
       "      <th>3</th>\n",
       "      <td>37404568</td>\n",
       "      <td>Big Data Project</td>\n",
       "      <td>Store Sales Data Analysis: A Data Engineering ...</td>\n",
       "      <td>['big data sales', 'data science', 'data minin...</td>\n",
       "      <td>Mundra</td>\n",
       "      <td>India</td>\n",
       "      <td>5.0</td>\n",
       "      <td>2</td>\n",
       "      <td>5000.0</td>\n",
       "      <td>5500.0</td>\n",
       "      <td>5250.0</td>\n",
       "      <td>INR</td>\n",
       "      <td>fixed</td>\n",
       "    </tr>\n",
       "    <tr>\n",
       "      <th>4</th>\n",
       "      <td>37397423</td>\n",
       "      <td>Virtual Assistant / Research Assistant</td>\n",
       "      <td>Job Description: I am seeking a Virtual Assist...</td>\n",
       "      <td>['data entry', 'virtual assistant', 'web searc...</td>\n",
       "      <td>NaN</td>\n",
       "      <td>United States</td>\n",
       "      <td>0.0</td>\n",
       "      <td>0</td>\n",
       "      <td>5.0</td>\n",
       "      <td>15.0</td>\n",
       "      <td>10.0</td>\n",
       "      <td>USD</td>\n",
       "      <td>hourly</td>\n",
       "    </tr>\n",
       "  </tbody>\n",
       "</table>\n",
       "</div>"
      ],
      "text/plain": [
       "   projectId                                          job_title  \\\n",
       "0   37426471  development and implementation of a federated ...   \n",
       "1   37421546                                   Data Entry  -- 2   \n",
       "2   37400492                                         Data Scrap   \n",
       "3   37404568                                   Big Data Project   \n",
       "4   37397423            Virtual Assistant / Research Assistant    \n",
       "\n",
       "                                     job_description  \\\n",
       "0  please bid only if you are ready to do the wor...   \n",
       "1  Project Title: Data Entry - Data Analysis in E...   \n",
       "2  I am looking for a freelancer who can help me ...   \n",
       "3  Store Sales Data Analysis: A Data Engineering ...   \n",
       "4  Job Description: I am seeking a Virtual Assist...   \n",
       "\n",
       "                                                tags client_state  \\\n",
       "0  ['algorithm', 'java', 'python', 'machine learn...    Heilbronn   \n",
       "1  ['excel', 'statistical analysis', 'statistics'...       Nagpur   \n",
       "2  ['web scraping', 'data mining', 'data entry', ...     Eaubonne   \n",
       "3  ['big data sales', 'data science', 'data minin...       Mundra   \n",
       "4  ['data entry', 'virtual assistant', 'web searc...          NaN   \n",
       "\n",
       "  client_country  client_average_rating  client_review_count  min_price  \\\n",
       "0        Germany                    5.0                   17        8.0   \n",
       "1          India                    0.0                    0      750.0   \n",
       "2         France                    5.0                    1       30.0   \n",
       "3          India                    5.0                    2     5000.0   \n",
       "4  United States                    0.0                    0        5.0   \n",
       "\n",
       "   max_price  avg_price currency rate_type  \n",
       "0       30.0       19.0      EUR     fixed  \n",
       "1     1250.0     1000.0      INR    hourly  \n",
       "2      250.0      140.0      EUR     fixed  \n",
       "3     5500.0     5250.0      INR     fixed  \n",
       "4       15.0       10.0      USD    hourly  "
      ]
     },
     "execution_count": 4,
     "metadata": {},
     "output_type": "execute_result"
    }
   ],
   "source": [
    "df_jobs.head()"
   ]
  },
  {
   "cell_type": "code",
   "execution_count": 5,
   "metadata": {
    "colab": {
     "base_uri": "https://localhost:8080/",
     "height": 397
    },
    "id": "jTc05lkhKKWJ",
    "outputId": "6633e7e0-85f9-46f4-d4fe-23b2683c58c2"
   },
   "outputs": [
    {
     "data": {
      "text/plain": [
       "country         4\n",
       "description     0\n",
       "hourlyRate      0\n",
       "jobSuccess     13\n",
       "locality        0\n",
       "name            0\n",
       "skills          0\n",
       "title           0\n",
       "totalHours      9\n",
       "totalJobs       0\n",
       "dtype: int64"
      ]
     },
     "execution_count": 5,
     "metadata": {},
     "output_type": "execute_result"
    }
   ],
   "source": [
    "#check for null values in freelancer dataset\n",
    "df_freelancer.isnull().sum()"
   ]
  },
  {
   "cell_type": "code",
   "execution_count": 6,
   "metadata": {
    "colab": {
     "base_uri": "https://localhost:8080/",
     "height": 491
    },
    "id": "qGCUDlnOMKR7",
    "outputId": "041a320e-6141-46f6-d2ab-604d5ae45844"
   },
   "outputs": [
    {
     "data": {
      "text/plain": [
       "projectId                  0\n",
       "job_title                  0\n",
       "job_description            0\n",
       "tags                       0\n",
       "client_state             365\n",
       "client_country             1\n",
       "client_average_rating      0\n",
       "client_review_count        0\n",
       "min_price                  0\n",
       "max_price                  0\n",
       "avg_price                  0\n",
       "currency                   0\n",
       "rate_type                  0\n",
       "dtype: int64"
      ]
     },
     "execution_count": 6,
     "metadata": {},
     "output_type": "execute_result"
    }
   ],
   "source": [
    "#check for null values in jobs dataset\n",
    "df_jobs.isnull().sum()"
   ]
  },
  {
   "cell_type": "code",
   "execution_count": 7,
   "metadata": {
    "id": "YZAxWsT47rrd"
   },
   "outputs": [],
   "source": [
    "#removing % in jobSuccess\n",
    "df_freelancer['jobSuccess'] = df_freelancer['jobSuccess'].str.replace('%' , '')\n",
    "#changes to numeric term\n",
    "df_freelancer['jobSuccess'] = pd.to_numeric(df_freelancer['jobSuccess'], errors='coerce')"
   ]
  },
  {
   "cell_type": "code",
   "execution_count": 8,
   "metadata": {
    "colab": {
     "base_uri": "https://localhost:8080/"
    },
    "id": "X69EGJFs6MSu",
    "outputId": "0f447b86-60eb-4af3-b1a9-5ffaa88e8f8f"
   },
   "outputs": [
    {
     "name": "stderr",
     "output_type": "stream",
     "text": [
      "C:\\Users\\DELL\\AppData\\Local\\Temp\\ipykernel_12488\\2860426828.py:2: FutureWarning: A value is trying to be set on a copy of a DataFrame or Series through chained assignment using an inplace method.\n",
      "The behavior will change in pandas 3.0. This inplace method will never work because the intermediate object on which we are setting values always behaves as a copy.\n",
      "\n",
      "For example, when doing 'df[col].method(value, inplace=True)', try using 'df.method({col: value}, inplace=True)' or df[col] = df[col].method(value) instead, to perform the operation inplace on the original object.\n",
      "\n",
      "\n",
      "  df_freelancer['country'].fillna(df_freelancer['country'].mode()[0] , inplace = True )\n",
      "C:\\Users\\DELL\\AppData\\Local\\Temp\\ipykernel_12488\\2860426828.py:3: FutureWarning: A value is trying to be set on a copy of a DataFrame or Series through chained assignment using an inplace method.\n",
      "The behavior will change in pandas 3.0. This inplace method will never work because the intermediate object on which we are setting values always behaves as a copy.\n",
      "\n",
      "For example, when doing 'df[col].method(value, inplace=True)', try using 'df.method({col: value}, inplace=True)' or df[col] = df[col].method(value) instead, to perform the operation inplace on the original object.\n",
      "\n",
      "\n",
      "  df_freelancer['jobSuccess'].fillna(df_freelancer['jobSuccess'].mean() , inplace = True)\n",
      "C:\\Users\\DELL\\AppData\\Local\\Temp\\ipykernel_12488\\2860426828.py:4: FutureWarning: A value is trying to be set on a copy of a DataFrame or Series through chained assignment using an inplace method.\n",
      "The behavior will change in pandas 3.0. This inplace method will never work because the intermediate object on which we are setting values always behaves as a copy.\n",
      "\n",
      "For example, when doing 'df[col].method(value, inplace=True)', try using 'df.method({col: value}, inplace=True)' or df[col] = df[col].method(value) instead, to perform the operation inplace on the original object.\n",
      "\n",
      "\n",
      "  df_freelancer['totalHours'].fillna(df_freelancer['totalHours'].mean() , inplace = True )\n"
     ]
    }
   ],
   "source": [
    "#filling the null values int the freelancer dataset\n",
    "df_freelancer['country'].fillna(df_freelancer['country'].mode()[0] , inplace = True )\n",
    "df_freelancer['jobSuccess'].fillna(df_freelancer['jobSuccess'].mean() , inplace = True)\n",
    "df_freelancer['totalHours'].fillna(df_freelancer['totalHours'].mean() , inplace = True )"
   ]
  },
  {
   "cell_type": "code",
   "execution_count": 9,
   "metadata": {
    "colab": {
     "base_uri": "https://localhost:8080/"
    },
    "id": "1-OHV4SJS9uM",
    "outputId": "e8f6cae0-5af2-4868-9f83-8e02b01dfd37"
   },
   "outputs": [
    {
     "name": "stderr",
     "output_type": "stream",
     "text": [
      "C:\\Users\\DELL\\AppData\\Local\\Temp\\ipykernel_12488\\3653652544.py:2: FutureWarning: A value is trying to be set on a copy of a DataFrame or Series through chained assignment using an inplace method.\n",
      "The behavior will change in pandas 3.0. This inplace method will never work because the intermediate object on which we are setting values always behaves as a copy.\n",
      "\n",
      "For example, when doing 'df[col].method(value, inplace=True)', try using 'df.method({col: value}, inplace=True)' or df[col] = df[col].method(value) instead, to perform the operation inplace on the original object.\n",
      "\n",
      "\n",
      "  df_jobs['client_country'].fillna(df_jobs['client_country'].mode()[0] , inplace = True)\n",
      "C:\\Users\\DELL\\AppData\\Local\\Temp\\ipykernel_12488\\3653652544.py:3: FutureWarning: A value is trying to be set on a copy of a DataFrame or Series through chained assignment using an inplace method.\n",
      "The behavior will change in pandas 3.0. This inplace method will never work because the intermediate object on which we are setting values always behaves as a copy.\n",
      "\n",
      "For example, when doing 'df[col].method(value, inplace=True)', try using 'df.method({col: value}, inplace=True)' or df[col] = df[col].method(value) instead, to perform the operation inplace on the original object.\n",
      "\n",
      "\n",
      "  df_jobs['client_state'].fillna(df_jobs['client_state'].mode()[0] , inplace = True)\n"
     ]
    }
   ],
   "source": [
    "#filling the null values in the job dataset\n",
    "df_jobs['client_country'].fillna(df_jobs['client_country'].mode()[0] , inplace = True)\n",
    "df_jobs['client_state'].fillna(df_jobs['client_state'].mode()[0] , inplace = True)"
   ]
  },
  {
   "cell_type": "code",
   "execution_count": 10,
   "metadata": {
    "id": "5HDCHcO4-vCV"
   },
   "outputs": [],
   "source": [
    "df_freelancer['skills'] = df_freelancer['skills'].str.split('|')\n",
    "df_freelancer['title'] = df_freelancer['title'].str.split('|')"
   ]
  },
  {
   "cell_type": "code",
   "execution_count": 11,
   "metadata": {
    "colab": {
     "base_uri": "https://localhost:8080/"
    },
    "id": "MfGchOrtS2KJ",
    "outputId": "251bec3d-4b3a-41bb-f3e4-b89637912d93"
   },
   "outputs": [
    {
     "name": "stdout",
     "output_type": "stream",
     "text": [
      "Requirement already satisfied: emoji in c:\\users\\dell\\anaconda\\lib\\site-packages (2.14.0)\n"
     ]
    }
   ],
   "source": [
    "#there is emojies in the description , emoji module we can remove emojies\n",
    "!pip install emoji"
   ]
  },
  {
   "cell_type": "code",
   "execution_count": 12,
   "metadata": {
    "id": "JaIKTPWZPcZG"
   },
   "outputs": [],
   "source": [
    "import emoji\n",
    "\n",
    "# Function to replace emojis\n",
    "def replace_emojis(text, replacement=\"\"):\n",
    "    return emoji.replace_emoji(text, replacement)\n",
    "\n",
    "# Apply to a dataframe column\n",
    "df_freelancer['description'] = df_freelancer['description'].apply(lambda x: replace_emojis(x, replacement=\"\"))\n"
   ]
  },
  {
   "cell_type": "code",
   "execution_count": 13,
   "metadata": {
    "colab": {
     "base_uri": "https://localhost:8080/"
    },
    "id": "F6B4eVZso910",
    "outputId": "111c9502-85ad-440e-b6d2-55ec7944550f"
   },
   "outputs": [
    {
     "data": {
      "text/plain": [
       "array(['EUR', 'INR', 'USD', 'SGD', 'GBP', 'AUD', 'HKD', 'CAD', 'NZD'],\n",
       "      dtype=object)"
      ]
     },
     "execution_count": 13,
     "metadata": {},
     "output_type": "execute_result"
    }
   ],
   "source": [
    "#checking the currency\n",
    "df_jobs['currency'].unique()"
   ]
  },
  {
   "cell_type": "code",
   "execution_count": 14,
   "metadata": {
    "id": "_zGZ307YaAbA"
   },
   "outputs": [],
   "source": [
    "#converting all currency present in the dataset to INR\n",
    "def change_curr(currs, amt):\n",
    "    if currs == \"EUR\":\n",
    "        return amt * 89.33\n",
    "    elif currs == \"USD\":\n",
    "        return amt * 84.50\n",
    "    elif currs == \"SGD\":\n",
    "        return amt * 63.08\n",
    "    elif currs == \"GBP\":\n",
    "        return amt * 107.44\n",
    "    elif currs == \"AUD\":\n",
    "        return amt * 55.05\n",
    "    elif currs == \"HKD\":\n",
    "        return amt * 10.86\n",
    "    elif currs == \"CAD\":\n",
    "        return amt * 60.42\n",
    "    elif currs == \"NZD\":\n",
    "        return amt * 49.97\n",
    "    else:\n",
    "        return amt\n",
    "\n",
    "\n"
   ]
  },
  {
   "cell_type": "code",
   "execution_count": 15,
   "metadata": {
    "id": "urjkD1XEs6pH"
   },
   "outputs": [],
   "source": [
    "#changing currency to INR in min_price\n",
    "min = []\n",
    "for i in range(len(df_jobs['currency'])):\n",
    "  min.append(change_curr(df_jobs['currency'][i] , df_jobs['min_price'][i]))\n",
    "\n",
    "#changing currency to INR in max_price\n",
    "max = []\n",
    "for i in range(len(df_jobs['currency'])):\n",
    "  max.append(change_curr(df_jobs['currency'][i] , df_jobs['max_price'][i]))\n",
    "\n",
    "#changing currency to INR in avg_price\n",
    "avg = []\n",
    "for i in range(len(df_jobs['currency'])):\n",
    "  avg.append(change_curr(df_jobs['currency'][i] , df_jobs['avg_price'][i]))\n"
   ]
  },
  {
   "cell_type": "code",
   "execution_count": 16,
   "metadata": {
    "id": "RzmqcTZ-UOVf"
   },
   "outputs": [],
   "source": [
    "df_jobs['min_inr'] = pd.DataFrame(data = min)\n",
    "\n",
    "df_jobs['max_inr'] = pd.DataFrame(data = max)\n",
    "\n",
    "df_jobs['avg_inr'] = pd.DataFrame(data = avg)"
   ]
  },
  {
   "cell_type": "code",
   "execution_count": 17,
   "metadata": {
    "id": "CX5a9sFiTR_x"
   },
   "outputs": [],
   "source": [
    "#droping the columns(avg_price , min_price , max_price)\n",
    "df_jobs.drop(['avg_price' , 'max_price' , 'min_price'] , axis = 1, inplace = True)"
   ]
  },
  {
   "cell_type": "code",
   "execution_count": 18,
   "metadata": {
    "id": "WUkNZg9MZ76z"
   },
   "outputs": [],
   "source": [
    "#droping the currency column\n",
    "df_jobs.drop(['currency'] , axis = 1 , inplace = True)"
   ]
  },
  {
   "cell_type": "code",
   "execution_count": 19,
   "metadata": {
    "id": "iHBjQK9XJ8Fi"
   },
   "outputs": [],
   "source": [
    "#adding the experience column with the help of client_rating column in th job dataset\n",
    "def level(rating):\n",
    "  if rating >=4.0 and rating <=5.0:\n",
    "    return \"expert\"\n",
    "  elif rating >=2.5 and rating <4.0:\n",
    "    return \"intermediate\"\n",
    "  else:\n",
    "    return \"entry\"\n",
    "\n",
    "#adding the experience column with the help of jobSuccess in the freelancer dataset\n",
    "def free_level(success):\n",
    "  if success >= 75.0 and success<=100.0:\n",
    "    return \"expert\"\n",
    "  elif success>=50.0 and success<75.0:\n",
    "    return \"intermediate\"\n",
    "  else:\n",
    "    return \"entry\""
   ]
  },
  {
   "cell_type": "code",
   "execution_count": 20,
   "metadata": {
    "id": "8JDmv7LcLg9X"
   },
   "outputs": [],
   "source": [
    "#creating the columns\n",
    "df_jobs['experience'] = df_jobs['client_average_rating'].apply(lambda x : level(x))\n",
    "df_freelancer['experience'] = df_freelancer['jobSuccess'].apply(lambda x : free_level(x))"
   ]
  },
  {
   "cell_type": "code",
   "execution_count": 21,
   "metadata": {
    "id": "klmB-THhMVj2"
   },
   "outputs": [],
   "source": [
    "#adding a column of password in both dataset\n",
    "df_jobs['pass'] = np.random.randint(10000000, 99999999, size=len(df_jobs))\n",
    "df_freelancer['pass'] = np.random.randint(10000000, 99999999, size=len(df_freelancer))"
   ]
  },
  {
   "cell_type": "code",
   "execution_count": 22,
   "metadata": {
    "id": "NT60CISiNoS7"
   },
   "outputs": [],
   "source": [
    "#adding a column of rating in the freelancer dataset\n",
    "df_freelancer['rating'] = np.random.randint(1, 6, size=len(df_freelancer))"
   ]
  },
  {
   "cell_type": "code",
   "execution_count": 23,
   "metadata": {
    "id": "IHiV1WcENMzK"
   },
   "outputs": [],
   "source": [
    "#adding a column of totalHours in the jobs dataset\n",
    "df_jobs['totalHours'] = np.random.randint(1 , 600 , size = len(df_jobs))\n",
    "\n",
    "#adding the column of jobSuccess in the jobs dataset\n",
    "df_jobs['jobSuccess'] = np.random.randint(1 , 101 , size = len(df_jobs))"
   ]
  },
  {
   "cell_type": "code",
   "execution_count": 24,
   "metadata": {
    "id": "2xwrPDiPH9fK"
   },
   "outputs": [],
   "source": [
    "#creating update_jobs dataframe with imp columns of df_jobs dataset\n",
    "update_jobs = df_jobs.drop([ 'client_state'  ,\t'client_review_count' , 'rate_type' ,\t'min_inr' , 'avg_inr' ] , axis = 1)"
   ]
  },
  {
   "cell_type": "code",
   "execution_count": 25,
   "metadata": {
    "id": "d2CaylTnQBG2"
   },
   "outputs": [],
   "source": [
    "#changing the columns names\n",
    "update_jobs.rename(columns={'client_average_rating': 'rating' ,\n",
    "                            'client_country' : 'country' ,\n",
    "                            'projectId' : 'name' ,\n",
    "                            'job_title' : 'title',\n",
    "                            'job_description' : 'description',\n",
    "                            'max_inr' : 'hourlyRate',\n",
    "                            'tags' : 'skills'}  , inplace = True)"
   ]
  },
  {
   "cell_type": "code",
   "execution_count": 26,
   "metadata": {
    "id": "qi81I7SsIpEe"
   },
   "outputs": [],
   "source": [
    "#save the jobs dataset\n",
    "pickle.dump(update_jobs , open('update_jobs.pkl' , 'wb'))"
   ]
  },
  {
   "cell_type": "code",
   "execution_count": 27,
   "metadata": {
    "id": "CppjULVUIvZc"
   },
   "outputs": [],
   "source": [
    "#creating update_free dataframe with imp columns of df_free dataset\n",
    "update_free = df_freelancer.drop(['locality'  ,'totalJobs' ] , axis = 1)\n",
    "pickle.dump(update_free , open('update_free.pkl' , 'wb'))"
   ]
  },
  {
   "cell_type": "code",
   "execution_count": 28,
   "metadata": {
    "id": "l5M20U4-pYbl"
   },
   "outputs": [],
   "source": [
    "#removing space between them e.g (video editing , flask) -> (videoediting , flask)\n",
    "def collapse(L):\n",
    "    L1 = []\n",
    "    for i in L:\n",
    "        L1.append(i.replace(\" \",\"\"))\n",
    "    return L1\n",
    "\n"
   ]
  },
  {
   "cell_type": "code",
   "execution_count": 29,
   "metadata": {
    "id": "6ptv9NrMsEZR"
   },
   "outputs": [],
   "source": [
    "#apply function to skills and title columns in the freelancer dataset\n",
    "df_freelancer['skills'] = df_freelancer['skills'].apply(collapse)\n",
    "df_freelancer['title'] = df_freelancer['title'].apply(collapse)"
   ]
  },
  {
   "cell_type": "code",
   "execution_count": 30,
   "metadata": {
    "id": "oFs6dkSY-imx"
   },
   "outputs": [],
   "source": [
    "import ast\n",
    "\n",
    "# Step 1: Convert string representation of lists to actual lists\n",
    "df_jobs['tags'] = df_jobs['tags'].apply(lambda x: ast.literal_eval(x) if isinstance(x, str) else x)\n",
    "\n",
    "# Step 2: Clean the list elements (strip unwanted characters like quotes)\n",
    "df_jobs['tags'] = df_jobs['tags'].apply(lambda x: [item.strip(\"'\") for item in x if isinstance(item, str)])\n",
    "\n",
    "#apply function to tags column\n",
    "df_jobs['tags'] = df_jobs['tags'].apply(collapse)\n"
   ]
  },
  {
   "cell_type": "code",
   "execution_count": 31,
   "metadata": {
    "id": "iGRFmRfa1o6E"
   },
   "outputs": [],
   "source": [
    "#changing int terms to str for adding them\n",
    "df_jobs['max_inr'] = df_jobs['max_inr'].astype('str')\n",
    "df_freelancer['hourlyRate'] = df_freelancer['hourlyRate'].astype('str')\n",
    "df_jobs['totalHours'] = df_jobs['totalHours'].astype('str')\n",
    "df_freelancer['totalHours'] = df_freelancer['totalHours'].astype('str')\n",
    "df_jobs['client_average_rating'] = df_jobs['client_average_rating'].astype('str')\n",
    "df_freelancer['jobSuccess'] = df_freelancer['jobSuccess'].astype('str')\n",
    "df_freelancer['rating'] = df_freelancer['rating'].astype('str')\n",
    "df_jobs['jobSuccess'] = df_jobs['jobSuccess'].astype('str')\n"
   ]
  },
  {
   "cell_type": "code",
   "execution_count": 32,
   "metadata": {
    "id": "X4NJL-JQzVzl"
   },
   "outputs": [],
   "source": [
    "#spliting the text into words for further adding with other columns\n",
    "df_jobs['job_title'] = df_jobs['job_title'].apply(lambda x:x.split())\n",
    "df_jobs['job_description'] = df_jobs['job_description'].apply(lambda x:x.split())\n",
    "df_jobs['client_country'] = df_jobs['client_country'].apply(lambda x:x.split())\n",
    "df_jobs['max_inr'] = df_jobs['max_inr'].apply(lambda x:x.split())\n",
    "df_jobs['experience'] = df_jobs['experience'].apply(lambda x:x.split())\n",
    "df_jobs['totalHours'] = df_jobs['totalHours'].apply(lambda x:x.split())\n",
    "df_jobs['client_average_rating'] = df_jobs['client_average_rating'].apply(lambda x:x.split())\n",
    "df_jobs['jobSuccess'] = df_jobs['jobSuccess'].apply(lambda x:x.split())"
   ]
  },
  {
   "cell_type": "code",
   "execution_count": 33,
   "metadata": {
    "id": "EHVG0ZLf0ELb"
   },
   "outputs": [],
   "source": [
    "#spliting the text into words for further adding with other columns\n",
    "df_freelancer['description'] = df_freelancer['description'].apply(lambda x:x.split())\n",
    "df_freelancer['country'] = df_freelancer['country'].apply(lambda x:x.split())\n",
    "df_freelancer['hourlyRate'] = df_freelancer['hourlyRate'].apply(lambda x:x.split())\n",
    "df_freelancer['experience'] = df_freelancer['experience'].apply(lambda x:x.split())\n",
    "df_freelancer['totalHours'] = df_freelancer['totalHours'].apply(lambda x:x.split())\n",
    "df_freelancer['jobSuccess'] = df_freelancer['jobSuccess'].apply(lambda x:x.split())\n",
    "df_freelancer['rating'] = df_freelancer['rating'].apply(lambda x:x.split())"
   ]
  },
  {
   "cell_type": "code",
   "execution_count": 34,
   "metadata": {
    "id": "RSZqUUS5vssn"
   },
   "outputs": [],
   "source": [
    "#adding columns and store in tags_1 in the jobs dataset\n",
    "df_jobs['tags_1'] =   df_jobs['tags'] +df_jobs['job_title']+ df_jobs['client_country'] +  df_jobs['totalHours'] + df_jobs['max_inr'] + df_jobs['experience']+ df_jobs['client_average_rating'] + df_jobs['jobSuccess']"
   ]
  },
  {
   "cell_type": "code",
   "execution_count": 35,
   "metadata": {
    "id": "D44RVh1i3rnv"
   },
   "outputs": [],
   "source": [
    "#adding columns and store in the tags_2 in the freelancer dataset\n",
    "df_freelancer['tags_2'] =   df_freelancer['skills'] +df_freelancer['title']+ df_freelancer['country'] +  df_freelancer['totalHours'] + df_freelancer['hourlyRate'] + df_freelancer['experience']+ df_freelancer['rating'] + df_freelancer['jobSuccess']\n"
   ]
  },
  {
   "cell_type": "code",
   "execution_count": 36,
   "metadata": {
    "id": "JKACZ9tECA4_"
   },
   "outputs": [],
   "source": [
    "df_freelancer['tags_2'] = df_freelancer['tags_2'].apply(lambda x: \" \".join(x))\n",
    "df_jobs['tags_1'] = df_jobs['tags_1'].apply(lambda x: \" \".join(x))"
   ]
  },
  {
   "cell_type": "code",
   "execution_count": 37,
   "metadata": {
    "id": "gRUqYFYW78Oa"
   },
   "outputs": [],
   "source": [
    "#creating new datset\n",
    "new_free = df_freelancer.drop(['country',\t'description',\t'hourlyRate' ,\t'jobSuccess'\t, 'locality' , 'skills' ,\t'title' ,\t'totalHours'\t, 'totalJobs' , 'experience' , 'pass' , 'rating'] , axis = 1)\n",
    "new_jobs = df_jobs.drop(['job_title' ,\t'job_description',\t'tags' ,\t'client_state' , \t'client_country' ,\t'client_average_rating' ,\t'client_review_count' , 'experience',\t'rate_type' ,\t'min_inr' ,\t'max_inr' ,\t'avg_inr'\t , 'pass' , 'totalHours' , 'jobSuccess'] , axis = 1)"
   ]
  },
  {
   "cell_type": "code",
   "execution_count": 38,
   "metadata": {
    "colab": {
     "base_uri": "https://localhost:8080/"
    },
    "id": "HZzdekmXcULm",
    "outputId": "22758e5f-a5ef-439a-b395-ddc0c8de410e"
   },
   "outputs": [
    {
     "name": "stdout",
     "output_type": "stream",
     "text": [
      "(9193, 2)\n",
      "(132, 2)\n"
     ]
    }
   ],
   "source": [
    "print(new_jobs.shape)\n",
    "print(new_free.shape)"
   ]
  },
  {
   "cell_type": "code",
   "execution_count": 39,
   "metadata": {
    "id": "b1uxDFqP_Tkr"
   },
   "outputs": [],
   "source": [
    "#lowering the tags\n",
    "new_jobs['tags_1'] = new_jobs['tags_1'].apply(lambda x : x.lower())\n",
    "\n",
    "new_free['tags_2'] = new_free['tags_2'].apply(lambda x: x.lower() )"
   ]
  },
  {
   "cell_type": "code",
   "execution_count": 40,
   "metadata": {
    "id": "-6iWvvPqCmGJ"
   },
   "outputs": [],
   "source": [
    "import string\n",
    "# Remove punctuation using str.translate() and string.punctuation\n",
    "new_jobs['tags_1'] =  new_jobs['tags_1'].apply(lambda x : x.translate(str.maketrans(\"\", \"\", string.punctuation)))\n",
    "new_free['tags_2'] =  new_free['tags_2'].apply(lambda x : x.translate(str.maketrans(\"\", \"\", string.punctuation)))"
   ]
  },
  {
   "cell_type": "code",
   "execution_count": 41,
   "metadata": {
    "id": "-6iWvvPqCmGJ"
   },
   "outputs": [
    {
     "data": {
      "text/html": [
       "<div>\n",
       "<style scoped>\n",
       "    .dataframe tbody tr th:only-of-type {\n",
       "        vertical-align: middle;\n",
       "    }\n",
       "\n",
       "    .dataframe tbody tr th {\n",
       "        vertical-align: top;\n",
       "    }\n",
       "\n",
       "    .dataframe thead th {\n",
       "        text-align: right;\n",
       "    }\n",
       "</style>\n",
       "<table border=\"1\" class=\"dataframe\">\n",
       "  <thead>\n",
       "    <tr style=\"text-align: right;\">\n",
       "      <th></th>\n",
       "      <th>projectId</th>\n",
       "      <th>tags_1</th>\n",
       "    </tr>\n",
       "  </thead>\n",
       "  <tbody>\n",
       "    <tr>\n",
       "      <th>0</th>\n",
       "      <td>37426471</td>\n",
       "      <td>algorithm java python machinelearningml flutte...</td>\n",
       "    </tr>\n",
       "    <tr>\n",
       "      <th>1</th>\n",
       "      <td>37421546</td>\n",
       "      <td>excel statisticalanalysis statistics spssstati...</td>\n",
       "    </tr>\n",
       "    <tr>\n",
       "      <th>2</th>\n",
       "      <td>37400492</td>\n",
       "      <td>webscraping datamining dataentry excel websear...</td>\n",
       "    </tr>\n",
       "    <tr>\n",
       "      <th>3</th>\n",
       "      <td>37404568</td>\n",
       "      <td>bigdatasales datascience datamining statistica...</td>\n",
       "    </tr>\n",
       "    <tr>\n",
       "      <th>4</th>\n",
       "      <td>37397423</td>\n",
       "      <td>dataentry virtualassistant websearch excel pre...</td>\n",
       "    </tr>\n",
       "  </tbody>\n",
       "</table>\n",
       "</div>"
      ],
      "text/plain": [
       "   projectId                                             tags_1\n",
       "0   37426471  algorithm java python machinelearningml flutte...\n",
       "1   37421546  excel statisticalanalysis statistics spssstati...\n",
       "2   37400492  webscraping datamining dataentry excel websear...\n",
       "3   37404568  bigdatasales datascience datamining statistica...\n",
       "4   37397423  dataentry virtualassistant websearch excel pre..."
      ]
     },
     "execution_count": 41,
     "metadata": {},
     "output_type": "execute_result"
    }
   ],
   "source": [
    "new_jobs.head()"
   ]
  },
  {
   "cell_type": "code",
   "execution_count": 42,
   "metadata": {},
   "outputs": [
    {
     "data": {
      "text/html": [
       "<div>\n",
       "<style scoped>\n",
       "    .dataframe tbody tr th:only-of-type {\n",
       "        vertical-align: middle;\n",
       "    }\n",
       "\n",
       "    .dataframe tbody tr th {\n",
       "        vertical-align: top;\n",
       "    }\n",
       "\n",
       "    .dataframe thead th {\n",
       "        text-align: right;\n",
       "    }\n",
       "</style>\n",
       "<table border=\"1\" class=\"dataframe\">\n",
       "  <thead>\n",
       "    <tr style=\"text-align: right;\">\n",
       "      <th></th>\n",
       "      <th>name</th>\n",
       "      <th>tags_2</th>\n",
       "    </tr>\n",
       "  </thead>\n",
       "  <tbody>\n",
       "    <tr>\n",
       "      <th>0</th>\n",
       "      <td>Abeer K.</td>\n",
       "      <td>python machinelearning scrapy datascience sql ...</td>\n",
       "    </tr>\n",
       "    <tr>\n",
       "      <th>1</th>\n",
       "      <td>Nikola M.</td>\n",
       "      <td>dataentry googledocs onlineresearch leadgenera...</td>\n",
       "    </tr>\n",
       "    <tr>\n",
       "      <th>2</th>\n",
       "      <td>Ramil, Jr. A.</td>\n",
       "      <td>microsoftexcel excelformula excelmacros visual...</td>\n",
       "    </tr>\n",
       "    <tr>\n",
       "      <th>3</th>\n",
       "      <td>Jason K.</td>\n",
       "      <td>deeplearning python datascience machinelearnin...</td>\n",
       "    </tr>\n",
       "    <tr>\n",
       "      <th>4</th>\n",
       "      <td>Muhammad Noman B.</td>\n",
       "      <td>datascience machinelearning pandas microsoftpo...</td>\n",
       "    </tr>\n",
       "  </tbody>\n",
       "</table>\n",
       "</div>"
      ],
      "text/plain": [
       "                name                                             tags_2\n",
       "0           Abeer K.  python machinelearning scrapy datascience sql ...\n",
       "1          Nikola M.  dataentry googledocs onlineresearch leadgenera...\n",
       "2      Ramil, Jr. A.  microsoftexcel excelformula excelmacros visual...\n",
       "3           Jason K.  deeplearning python datascience machinelearnin...\n",
       "4  Muhammad Noman B.  datascience machinelearning pandas microsoftpo..."
      ]
     },
     "execution_count": 42,
     "metadata": {},
     "output_type": "execute_result"
    }
   ],
   "source": [
    "new_free.head()"
   ]
  },
  {
   "cell_type": "code",
   "execution_count": 43,
   "metadata": {
    "id": "7gvsqme7uxP2"
   },
   "outputs": [],
   "source": [
    "#saving these two datasets\n",
    "import pickle\n",
    "pickle.dump(new_jobs , open('jobs_2.pkl' , 'wb'))\n",
    "pickle.dump(new_free , open('freelancer_2.pkl' , 'wb'))"
   ]
  }
 ],
 "metadata": {
  "accelerator": "GPU",
  "colab": {
   "gpuType": "T4",
   "provenance": []
  },
  "kernelspec": {
   "display_name": "Python 3 (ipykernel)",
   "language": "python",
   "name": "python3"
  },
  "language_info": {
   "codemirror_mode": {
    "name": "ipython",
    "version": 3
   },
   "file_extension": ".py",
   "mimetype": "text/x-python",
   "name": "python",
   "nbconvert_exporter": "python",
   "pygments_lexer": "ipython3",
   "version": "3.12.4"
  }
 },
 "nbformat": 4,
 "nbformat_minor": 4
}
